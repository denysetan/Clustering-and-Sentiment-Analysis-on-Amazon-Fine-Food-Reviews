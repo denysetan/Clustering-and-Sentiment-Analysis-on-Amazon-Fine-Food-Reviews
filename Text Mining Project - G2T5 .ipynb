{
 "cells": [
  {
   "cell_type": "markdown",
   "metadata": {},
   "source": [
    "# Amazon Fine Food Reviews - G2T5"
   ]
  },
  {
   "cell_type": "markdown",
   "metadata": {},
   "source": [
    "## 1. Read the dataframe and perform data cleaning"
   ]
  },
  {
   "cell_type": "code",
   "execution_count": 1,
   "metadata": {},
   "outputs": [],
   "source": [
    "import pandas as pd"
   ]
  },
  {
   "cell_type": "code",
   "execution_count": 2,
   "metadata": {},
   "outputs": [],
   "source": [
    "# Read the csv file\n",
    "df = pd.read_csv('Reviews.csv')"
   ]
  },
  {
   "cell_type": "code",
   "execution_count": 3,
   "metadata": {},
   "outputs": [],
   "source": [
    "# Removing duplicate rows \n",
    "# Checking duplicates based on UserId, ProfileName, Time, Text. If all these values are equal then we will remove those records. \n",
    "df = df.drop_duplicates(subset={\"UserId\",\"ProfileName\",\"Time\",\"Text\"})"
   ]
  },
  {
   "cell_type": "code",
   "execution_count": 4,
   "metadata": {},
   "outputs": [
    {
     "data": {
      "text/plain": [
       "(393931, 10)"
      ]
     },
     "execution_count": 4,
     "metadata": {},
     "output_type": "execute_result"
    }
   ],
   "source": [
    "# HelpfulnessNumerator: Number of users who found the review helpful\n",
    "# HelpfulnessDenominator: Number of users who indicated whether they found the review helpful or not\n",
    "\n",
    "# Keep records with HelpfulnessNumerator less than or equal to HelpfulnessDenominator \n",
    "df = df[df['HelpfulnessNumerator'] <= df['HelpfulnessDenominator']]\n",
    "df.shape"
   ]
  },
  {
   "cell_type": "markdown",
   "metadata": {},
   "source": [
    "## 2. Take a random sample of 80,000 reviews"
   ]
  },
  {
   "cell_type": "markdown",
   "metadata": {},
   "source": [
    "We will be using a sample of 80,000 reviews and then perform clustering on them."
   ]
  },
  {
   "cell_type": "code",
   "execution_count": 5,
   "metadata": {},
   "outputs": [],
   "source": [
    "# taking a sample of 80k reviews randomly\n",
    "new_df = df.sample(80000)"
   ]
  },
  {
   "cell_type": "code",
   "execution_count": 6,
   "metadata": {},
   "outputs": [],
   "source": [
    "# # Save the new_df\n",
    "# import pickle\n",
    "\n",
    "# save_classifier = open(\"new_df.pickle\",\"wb\")\n",
    "# pickle.dump(new_df, save_classifier)\n",
    "# save_classifier.close()"
   ]
  },
  {
   "cell_type": "code",
   "execution_count": 9,
   "metadata": {},
   "outputs": [],
   "source": [
    "# Retrieve the new_df\n",
    "import pickle\n",
    "\n",
    "classifier_saved = open(\"new_df.pickle\",'rb')\n",
    "new_df = pickle.load(classifier_saved)\n",
    "classifier_saved.close()"
   ]
  },
  {
   "cell_type": "code",
   "execution_count": 10,
   "metadata": {},
   "outputs": [
    {
     "data": {
      "text/html": [
       "<div>\n",
       "<style scoped>\n",
       "    .dataframe tbody tr th:only-of-type {\n",
       "        vertical-align: middle;\n",
       "    }\n",
       "\n",
       "    .dataframe tbody tr th {\n",
       "        vertical-align: top;\n",
       "    }\n",
       "\n",
       "    .dataframe thead th {\n",
       "        text-align: right;\n",
       "    }\n",
       "</style>\n",
       "<table border=\"1\" class=\"dataframe\">\n",
       "  <thead>\n",
       "    <tr style=\"text-align: right;\">\n",
       "      <th></th>\n",
       "      <th>Id</th>\n",
       "      <th>ProductId</th>\n",
       "      <th>UserId</th>\n",
       "      <th>ProfileName</th>\n",
       "      <th>HelpfulnessNumerator</th>\n",
       "      <th>HelpfulnessDenominator</th>\n",
       "      <th>Score</th>\n",
       "      <th>Time</th>\n",
       "      <th>Summary</th>\n",
       "      <th>Text</th>\n",
       "    </tr>\n",
       "  </thead>\n",
       "  <tbody>\n",
       "    <tr>\n",
       "      <th>144798</th>\n",
       "      <td>144799</td>\n",
       "      <td>B000HQNE2S</td>\n",
       "      <td>A920YQSKVECLQ</td>\n",
       "      <td>Ontos Crewman \"0311 0353\"</td>\n",
       "      <td>0</td>\n",
       "      <td>0</td>\n",
       "      <td>5</td>\n",
       "      <td>1298073600</td>\n",
       "      <td>Food Critics Abound</td>\n",
       "      <td>This is a quick and easy instant soup mix that...</td>\n",
       "    </tr>\n",
       "    <tr>\n",
       "      <th>17529</th>\n",
       "      <td>17530</td>\n",
       "      <td>B0045Z6K50</td>\n",
       "      <td>A3FIBMRACIHDVR</td>\n",
       "      <td>Julie Waters \"D.M. Waters\"</td>\n",
       "      <td>0</td>\n",
       "      <td>0</td>\n",
       "      <td>5</td>\n",
       "      <td>1339718400</td>\n",
       "      <td>Great Coffee</td>\n",
       "      <td>Newmans makes really good coffee. This seems t...</td>\n",
       "    </tr>\n",
       "    <tr>\n",
       "      <th>529825</th>\n",
       "      <td>529826</td>\n",
       "      <td>B004T88BYQ</td>\n",
       "      <td>A2X5FVCH08OGL7</td>\n",
       "      <td>Quant</td>\n",
       "      <td>0</td>\n",
       "      <td>0</td>\n",
       "      <td>3</td>\n",
       "      <td>1343433600</td>\n",
       "      <td>Like the taste... too bad prices rose 10%+ las...</td>\n",
       "      <td>Pros:&lt;br /&gt;&lt;br /&gt;These cereal taste good. At $...</td>\n",
       "    </tr>\n",
       "    <tr>\n",
       "      <th>382654</th>\n",
       "      <td>382655</td>\n",
       "      <td>B004VLVLQQ</td>\n",
       "      <td>A3KL0DWTREYA7N</td>\n",
       "      <td>Mike BonDURANT \"MUSEUMMUSCLE\"</td>\n",
       "      <td>2</td>\n",
       "      <td>2</td>\n",
       "      <td>5</td>\n",
       "      <td>1332892800</td>\n",
       "      <td>Great Bread!</td>\n",
       "      <td>My wife uses this mix for our everyday bread. ...</td>\n",
       "    </tr>\n",
       "    <tr>\n",
       "      <th>508891</th>\n",
       "      <td>508892</td>\n",
       "      <td>B0063HW066</td>\n",
       "      <td>A3ELY490R6CEKW</td>\n",
       "      <td>Dan-0</td>\n",
       "      <td>0</td>\n",
       "      <td>1</td>\n",
       "      <td>5</td>\n",
       "      <td>1342310400</td>\n",
       "      <td>Good Product</td>\n",
       "      <td>Was scared to try it because of its color and ...</td>\n",
       "    </tr>\n",
       "  </tbody>\n",
       "</table>\n",
       "</div>"
      ],
      "text/plain": [
       "            Id   ProductId          UserId                    ProfileName  \\\n",
       "144798  144799  B000HQNE2S   A920YQSKVECLQ      Ontos Crewman \"0311 0353\"   \n",
       "17529    17530  B0045Z6K50  A3FIBMRACIHDVR     Julie Waters \"D.M. Waters\"   \n",
       "529825  529826  B004T88BYQ  A2X5FVCH08OGL7                          Quant   \n",
       "382654  382655  B004VLVLQQ  A3KL0DWTREYA7N  Mike BonDURANT \"MUSEUMMUSCLE\"   \n",
       "508891  508892  B0063HW066  A3ELY490R6CEKW                          Dan-0   \n",
       "\n",
       "        HelpfulnessNumerator  HelpfulnessDenominator  Score        Time  \\\n",
       "144798                     0                       0      5  1298073600   \n",
       "17529                      0                       0      5  1339718400   \n",
       "529825                     0                       0      3  1343433600   \n",
       "382654                     2                       2      5  1332892800   \n",
       "508891                     0                       1      5  1342310400   \n",
       "\n",
       "                                                  Summary  \\\n",
       "144798                                Food Critics Abound   \n",
       "17529                                        Great Coffee   \n",
       "529825  Like the taste... too bad prices rose 10%+ las...   \n",
       "382654                                       Great Bread!   \n",
       "508891                                       Good Product   \n",
       "\n",
       "                                                     Text  \n",
       "144798  This is a quick and easy instant soup mix that...  \n",
       "17529   Newmans makes really good coffee. This seems t...  \n",
       "529825  Pros:<br /><br />These cereal taste good. At $...  \n",
       "382654  My wife uses this mix for our everyday bread. ...  \n",
       "508891  Was scared to try it because of its color and ...  "
      ]
     },
     "execution_count": 10,
     "metadata": {},
     "output_type": "execute_result"
    }
   ],
   "source": [
    "new_df.head()"
   ]
  },
  {
   "cell_type": "code",
   "execution_count": 11,
   "metadata": {},
   "outputs": [],
   "source": [
    "# Read the Text, Id, and ProductId column and store it into a list \n",
    "Text = new_df['Text']\n",
    "Text_list = list(Text)\n",
    "\n",
    "Id = new_df['Id'] \n",
    "Id_list = list(Id)\n",
    "\n",
    "ProductId = new_df['ProductId'] \n",
    "ProductId_list = list(ProductId)\n",
    "\n",
    "# Create a dictionary with ID as the key and Text and ProductId as the values\n",
    "Text_dict = dict(zip(Id_list, Text_list)) \n",
    "ProductId_dict = dict(zip(Id_list, ProductId_list)) "
   ]
  },
  {
   "cell_type": "markdown",
   "metadata": {},
   "source": [
    "## 3. Preprocess the 80,000 reviews"
   ]
  },
  {
   "cell_type": "markdown",
   "metadata": {},
   "source": [
    "1. Convert all the words to lowercase, keep only alphabetic characters, and remove stopwords\n",
    "2. Create a new list (proper_nouns) to store all the nouns\n",
    "3. Lemmatizating the proper_nouns\n",
    "4. Remove the top 150 common words and single letter words\n",
    "5. Remove empty list/reviews after preprocessing is done"
   ]
  },
  {
   "cell_type": "code",
   "execution_count": null,
   "metadata": {},
   "outputs": [],
   "source": [
    "# Preprocess the data\n",
    "# Convert all to lower cases, keep only alphabetic chars, remove stop words\n",
    "# Create a new list (proper_nouns) to store all the nouns\n",
    "\n",
    "import nltk\n",
    "from nltk.tokenize import word_tokenize\n",
    "import re\n",
    "stop_list = nltk.corpus.stopwords.words('english')\n",
    "stemmer = nltk.stem.porter.PorterStemmer()\n",
    "\n",
    "proper_nouns = []\n",
    "\n",
    "for review in Text_list:\n",
    "    doc = review.split()\n",
    "    doc1 = [w.lower() for w in doc]\n",
    "    doc2 = [w for w in doc1 if re.search('^[a-z]+$', w)]\n",
    "    doc3 = [w for w in doc2 if w not in stop_list]\n",
    "\n",
    "    tagsText= nltk.pos_tag(doc3)\n",
    "\n",
    "    propernouns = [word for word,pos in tagsText if pos in ['NN','NNS','NNP','NNPS']]\n",
    "    proper_nouns.append(propernouns)\n",
    "print(proper_nouns)\n",
    "        "
   ]
  },
  {
   "cell_type": "code",
   "execution_count": 12,
   "metadata": {},
   "outputs": [],
   "source": [
    "# # Save the proper_nouns\n",
    "# import pickle\n",
    "\n",
    "# save_classifier = open(\"proper_nouns.pickle\",\"wb\")\n",
    "# pickle.dump(proper_nouns, save_classifier)\n",
    "# save_classifier.close()"
   ]
  },
  {
   "cell_type": "code",
   "execution_count": 14,
   "metadata": {},
   "outputs": [],
   "source": [
    "# Retrieve the proper_nouns\n",
    "import pickle\n",
    "\n",
    "classifier_saved = open(\"proper_nouns.pickle\",'rb')\n",
    "proper_nouns = pickle.load(classifier_saved)\n",
    "classifier_saved.close()"
   ]
  },
  {
   "cell_type": "code",
   "execution_count": 15,
   "metadata": {},
   "outputs": [],
   "source": [
    "# Lemmatizating the proper nouns (output: nouns_lem)\n",
    "from nltk.stem import WordNetLemmatizer\n",
    "lemmatizer = WordNetLemmatizer()\n",
    "nouns_lem =[]\n",
    "for doc in proper_nouns:\n",
    "    nouns_lem.append([lemmatizer.lemmatize(w) for w in doc])\n",
    "    "
   ]
  },
  {
   "cell_type": "code",
   "execution_count": 16,
   "metadata": {},
   "outputs": [],
   "source": [
    "# Placing all the lemmatized proper nouns into one complied list\n",
    "compiled_list = []\n",
    "for doc in nouns_lem:\n",
    "    for w in doc:\n",
    "        compiled_list.append(w)"
   ]
  },
  {
   "cell_type": "code",
   "execution_count": 17,
   "metadata": {},
   "outputs": [],
   "source": [
    "# Retrieve the top 150 most common words\n",
    "import nltk\n",
    "fdist = nltk.FreqDist(compiled_list)\n",
    "most_common = fdist.most_common(150)\n",
    "# print(most_common)"
   ]
  },
  {
   "cell_type": "code",
   "execution_count": 18,
   "metadata": {},
   "outputs": [],
   "source": [
    "# Retrieve only the top 150 words, without the frequency\n",
    "only_common_words =[]\n",
    "for word,num in most_common:\n",
    "    only_common_words.append(word)"
   ]
  },
  {
   "cell_type": "code",
   "execution_count": 19,
   "metadata": {},
   "outputs": [],
   "source": [
    "# Removing the top 150 common words from only_common_words and single letters, eg: \"k\"\n",
    "compiled_list = []\n",
    "for doc in nouns_lem:\n",
    "    uncommon_words_list = []\n",
    "    for w in doc:\n",
    "        if w not in only_common_words and len(w) > 1:\n",
    "            uncommon_words_list.append(w)\n",
    "            \n",
    "    compiled_list.append(uncommon_words_list)"
   ]
  },
  {
   "cell_type": "code",
   "execution_count": 20,
   "metadata": {},
   "outputs": [],
   "source": [
    "# Create a list to store the ids with empty lists after preprocessing\n",
    "\n",
    "id_to_remove = []\n",
    "for i in range(len(compiled_list)):\n",
    "    if len(compiled_list[i]) == 0:\n",
    "        id_to_remove.append(Id_list[i])"
   ]
  },
  {
   "cell_type": "code",
   "execution_count": 21,
   "metadata": {},
   "outputs": [],
   "source": [
    "# Update the dictionaries created earlier to remove the ids with empty list\n",
    "for i in id_to_remove:\n",
    "    del Text_dict[i]\n",
    "    del ProductId_dict[i]\n"
   ]
  },
  {
   "cell_type": "code",
   "execution_count": 22,
   "metadata": {},
   "outputs": [],
   "source": [
    "# Create a list to store the reviews after removing empty lists\n",
    "# The number of reviews remaining for clustering is 75,942\n",
    "compiled_list = [x for x in compiled_list if x != []]\n",
    "#print(compiled_list)\n",
    "#print(len(compiled_list))"
   ]
  },
  {
   "cell_type": "code",
   "execution_count": 23,
   "metadata": {},
   "outputs": [],
   "source": [
    "# Create a list to store the ID, Text, and ProductId after removing empty lists\n",
    "Id_list_final = list(Text_dict.keys())\n",
    "\n",
    "Text_list_final = list(Text_dict.values())\n",
    "\n",
    "ProductId_list_final = list(ProductId_dict.values())"
   ]
  },
  {
   "cell_type": "markdown",
   "metadata": {},
   "source": [
    "## 4. Perform Elbow Method to retrieve the optimal number of clusters"
   ]
  },
  {
   "cell_type": "code",
   "execution_count": 24,
   "metadata": {},
   "outputs": [],
   "source": [
    "# Join all the nouns back into a sentence for each review \n",
    "proper_nouns_joined = []\n",
    "for propernouns in compiled_list:\n",
    "    propernouns = ' '.join(propernouns)\n",
    "    proper_nouns_joined.append(propernouns)\n",
    "    \n",
    "# print(proper_nouns_joined)"
   ]
  },
  {
   "cell_type": "code",
   "execution_count": 25,
   "metadata": {},
   "outputs": [
    {
     "data": {
      "text/plain": [
       "(75942, 1500)"
      ]
     },
     "execution_count": 25,
     "metadata": {},
     "output_type": "execute_result"
    }
   ],
   "source": [
    "from sklearn.feature_extraction.text import TfidfVectorizer\n",
    "tfidf_vec = TfidfVectorizer(max_features=1500)\n",
    "bow = tfidf_vec.fit_transform(proper_nouns_joined)\n",
    "bow.shape"
   ]
  },
  {
   "cell_type": "code",
   "execution_count": null,
   "metadata": {},
   "outputs": [],
   "source": [
    "# Using the elbow method to find the optimal number of clusters\n",
    "from sklearn.cluster import KMeans\n",
    "clusters_list = [2,10,20,30,40,50,60,70,80,90,100]\n",
    "wcss = []\n",
    "for i in clusters_list:\n",
    "    kmeans = KMeans(n_clusters = i, init = 'k-means++', random_state = 0)\n",
    "    kmeans.fit(bow)\n",
    "    wcss.append(kmeans.inertia_)"
   ]
  },
  {
   "cell_type": "code",
   "execution_count": 26,
   "metadata": {},
   "outputs": [],
   "source": [
    "clusters_list = [2,10,20,30,40,50,60,70,80,90,100]\n",
    "\n",
    "# Retrieve wcss (sum of the squared distance between each member of the cluster and its centroid)\n",
    "import pickle\n",
    "\n",
    "classifier_saved = open(\"wcss.pickle\",'rb')\n",
    "wcss = pickle.load(classifier_saved)\n",
    "classifier_saved.close()"
   ]
  },
  {
   "cell_type": "code",
   "execution_count": 28,
   "metadata": {},
   "outputs": [
    {
     "data": {
      "image/png": "[encoded data removed]",
      "text/plain": [
       "<Figure size 432x288 with 1 Axes>"
      ]
     },
     "metadata": {
      "needs_background": "light"
     },
     "output_type": "display_data"
    }
   ],
   "source": [
    "# Plot the graph out\n",
    "# We have identified 30 to be the optimal number of clusters\n",
    "import matplotlib.pyplot as plt\n",
    "import seaborn as sns\n",
    "plt.plot(clusters_list, wcss)\n",
    "plt.title('The Elbow Method')\n",
    "plt.xlabel('Number of clusters')\n",
    "plt.ylabel('WCSS')\n",
    "plt.show()"
   ]
  },
  {
   "cell_type": "code",
   "execution_count": 29,
   "metadata": {},
   "outputs": [],
   "source": [
    "# # Save the clusters\n",
    "# import pickle\n",
    "\n",
    "# save_classifier = open(\"wcss.pickle\",\"wb\")\n",
    "# pickle.dump(wcss, save_classifier)\n",
    "# save_classifier.close()"
   ]
  },
  {
   "cell_type": "markdown",
   "metadata": {},
   "source": [
    "## 5. Perform K-Means Clustering "
   ]
  },
  {
   "cell_type": "code",
   "execution_count": 30,
   "metadata": {},
   "outputs": [
    {
     "name": "stderr",
     "output_type": "stream",
     "text": [
      "C:\\Users\\denys\\Anaconda3\\lib\\site-packages\\gensim\\utils.py:1197: UserWarning: detected Windows; aliasing chunkize to chunkize_serial\n",
      "  warnings.warn(\"detected Windows; aliasing chunkize to chunkize_serial\")\n"
     ]
    }
   ],
   "source": [
    "import gensim\n",
    "dictionary = gensim.corpora.Dictionary(compiled_list)"
   ]
  },
  {
   "cell_type": "code",
   "execution_count": 31,
   "metadata": {},
   "outputs": [],
   "source": [
    "# Transform the documents into TF-IDF-based document vectors\n",
    "vecs1 = [dictionary.doc2bow(doc) for doc in compiled_list]\n",
    "tfidf = gensim.models.TfidfModel(vecs1)\n",
    "vecs = [tfidf[vec] for vec in vecs1]\n",
    "# vecs"
   ]
  },
  {
   "cell_type": "code",
   "execution_count": 28,
   "metadata": {
    "scrolled": true
   },
   "outputs": [],
   "source": [
    "# Perform K-means clustering with 30 clusters\n",
    "import k_means\n",
    "\n",
    "num_tokens = len(dictionary.token2id)\n",
    "clusters = k_means.k_means(vecs, num_tokens, 30)"
   ]
  },
  {
   "cell_type": "code",
   "execution_count": 29,
   "metadata": {},
   "outputs": [],
   "source": [
    "# # Save the clusters\n",
    "# import pickle\n",
    "\n",
    "# save_classifier = open(\"clusters_30.pickle\",\"wb\")\n",
    "# pickle.dump(clusters, save_classifier)\n",
    "# save_classifier.close()"
   ]
  },
  {
   "cell_type": "code",
   "execution_count": 32,
   "metadata": {},
   "outputs": [],
   "source": [
    "# Retrieve the clusters\n",
    "import pickle\n",
    "\n",
    "classifier_saved = open(\"clusters_30.pickle\",'rb')\n",
    "clusters = pickle.load(classifier_saved)\n",
    "classifier_saved.close()"
   ]
  },
  {
   "cell_type": "code",
   "execution_count": 33,
   "metadata": {},
   "outputs": [],
   "source": [
    "# Retrieve the words from the documents according to the cluster number\n",
    "clusters_all_words = []\n",
    "\n",
    "for i in range(0,30):\n",
    "    indv_cluster_words = []\n",
    "    for fid in clusters[i]:\n",
    "        indv_cluster_words.extend(compiled_list[fid])\n",
    "    clusters_all_words.append(indv_cluster_words)"
   ]
  },
  {
   "cell_type": "markdown",
   "metadata": {},
   "source": [
    "## 6. Cluster Visualisation"
   ]
  },
  {
   "cell_type": "code",
   "execution_count": 35,
   "metadata": {},
   "outputs": [
    {
     "name": "stdout",
     "output_type": "stream",
     "text": [
      "Cluster 0: \n",
      "[('ginger', 601), ('date', 586), ('cake', 583), ('cookie', 549), ('daughter', 541), ('almond', 508), ('thanks', 495), ('wheat', 469), ('enjoy', 401), ('gluten', 396)]\n",
      "\n",
      "Cluster 1: \n",
      "[('noodle', 1001), ('spicy', 885), ('pepper', 527), ('tomato', 462), ('chili', 446), ('curry', 331), ('veggie', 316), ('onion', 274), ('dish', 272), ('bowl', 207)]\n",
      "\n",
      "Cluster 2: \n",
      "[('grind', 227), ('smooth', 194), ('grinder', 100), ('fine', 86), ('drip', 67), ('press', 58), ('marzipan', 40), ('okay', 34), ('comparison', 33), ('soooo', 32)]\n",
      "\n",
      "Cluster 3: \n",
      "[('subscribe', 563), ('shipment', 338), ('option', 329), ('subscription', 289), ('save', 289), ('saving', 60), ('delivery', 57), ('discount', 53), ('program', 48), ('sale', 46)]\n",
      "\n",
      "Cluster 4: \n",
      "[('supermarket', 486), ('mention', 107), ('reviewer', 20), ('shelf', 20), ('yeast', 20), ('difference', 20), ('stock', 19), ('glad', 17), ('batch', 15), ('wheat', 15)]\n",
      "\n",
      "Cluster 5: \n",
      "[('color', 894), ('shampoo', 281), ('conditioner', 255), ('person', 220), ('matcha', 165), ('scalp', 143), ('beauty', 64), ('leaf', 49), ('difference', 48), ('dandruff', 47)]\n",
      "\n",
      "Cluster 6: \n",
      "[('grain', 943), ('formula', 636), ('cut', 319), ('oat', 318), ('stomach', 267), ('coat', 239), ('graham', 227), ('mill', 215), ('gas', 178), ('wheat', 149)]\n",
      "\n",
      "Cluster 7: \n",
      "[('party', 279), ('fun', 263), ('bear', 215), ('gummy', 192), ('hit', 165), ('gummi', 127), ('selection', 123), ('birthday', 120), ('holiday', 118), ('guest', 115)]\n",
      "\n",
      "Cluster 8: \n",
      "[('cannot', 790), ('difference', 29), ('passion', 24), ('wheat', 23), ('thank', 20), ('stock', 19), ('side', 18), ('child', 18), ('someone', 17), ('tell', 16)]\n",
      "\n",
      "Cluster 9: \n",
      "[('service', 659), ('customer', 632), ('plant', 582), ('leaf', 299), ('pot', 292), ('kit', 213), ('flower', 209), ('return', 196), ('wine', 187), ('instruction', 163)]\n",
      "\n",
      "Cluster 10: \n",
      "[('granola', 688), ('yogurt', 267), ('crunch', 261), ('chunk', 221), ('oat', 64), ('cluster', 48), ('gram', 44), ('toddler', 41), ('crunchy', 39), ('chewy', 37)]\n",
      "\n",
      "Cluster 11: \n",
      "[('raisin', 402), ('strawberry', 374), ('banana', 352), ('oatmeal', 322), ('ate', 240), ('quaker', 157), ('cookie', 129), ('bran', 85), ('oat', 60), ('walnut', 56)]\n",
      "\n",
      "Cluster 12: \n",
      "[('convenience', 370), ('travel', 186), ('ease', 78), ('mug', 50), ('shopping', 44), ('step', 42), ('forget', 17), ('bulk', 16), ('help', 16), ('point', 16)]\n",
      "\n",
      "Cluster 13: \n",
      "[('aroma', 422), ('brew', 291), ('tin', 279), ('truffle', 237), ('earl', 220), ('grey', 217), ('jasmine', 205), ('twinings', 174), ('mushroom', 143), ('scent', 79)]\n",
      "\n",
      "Cluster 14: \n",
      "[('description', 473), ('picture', 382), ('list', 378), ('basket', 221), ('label', 214), ('state', 206), ('shell', 105), ('sent', 82), ('contain', 81), ('buyer', 72)]\n",
      "\n",
      "Cluster 15: \n",
      "[('vitamin', 535), ('sodium', 530), ('crunchy', 392), ('gram', 386), ('fat', 352), ('fiber', 334), ('content', 288), ('source', 279), ('carb', 273), ('none', 261)]\n",
      "\n",
      "Cluster 16: \n",
      "[('guess', 597), ('waste', 565), ('litter', 222), ('run', 95), ('mess', 91), ('comment', 85), ('thought', 41), ('control', 39), ('stick', 35), ('clump', 33)]\n",
      "\n",
      "Cluster 17: \n",
      "[('care', 721), ('trap', 259), ('memory', 74), ('fly', 70), ('gopher', 54), ('mole', 53), ('moth', 47), ('instruction', 32), ('hole', 32), ('tunnel', 28)]\n",
      "\n",
      "Cluster 18: \n",
      "[('syrup', 874), ('pancake', 501), ('dollar', 406), ('waffle', 301), ('maple', 255), ('grade', 78), ('farm', 74), ('torani', 57), ('pump', 52), ('egg', 42)]\n",
      "\n",
      "Cluster 19: \n",
      "[('orange', 722), ('soda', 546), ('sweetener', 528), ('drinking', 508), ('lemon', 412), ('stevia', 293), ('effect', 292), ('caffeine', 286), ('side', 281), ('blood', 276)]\n",
      "\n",
      "Cluster 20: \n",
      "[('ice', 941), ('glass', 592), ('heat', 459), ('summer', 231), ('light', 227), ('drop', 205), ('direction', 180), ('room', 162), ('put', 160), ('cooking', 139)]\n",
      "\n",
      "Cluster 21: \n",
      "[('thank', 757), ('salty', 401), ('balance', 160), ('chewy', 144), ('mouth', 134), ('fast', 103), ('let', 92), ('goodness', 91), ('sweet', 42), ('god', 40)]\n",
      "\n",
      "Cluster 22: \n",
      "[('plastic', 553), ('pop', 460), ('popcorn', 365), ('movie', 239), ('course', 211), ('kernel', 155), ('top', 151), ('air', 148), ('cheddar', 124), ('paper', 124)]\n",
      "\n",
      "Cluster 23: \n",
      "[('beef', 731), ('issue', 463), ('choice', 462), ('jerky', 457), ('vet', 377), ('feed', 341), ('eats', 272), ('allergy', 212), ('steak', 140), ('buffalo', 134)]\n",
      "\n",
      "Cluster 24: \n",
      "[('pill', 666), ('pocket', 236), ('greenies', 129), ('purse', 83), ('capsule', 61), ('throat', 54), ('pain', 45), ('hip', 44), ('medication', 44), ('medicine', 38)]\n",
      "\n",
      "Cluster 25: \n",
      "[('hour', 770), ('night', 544), ('body', 357), ('dinner', 319), ('skin', 194), ('job', 156), ('style', 134), ('door', 85), ('help', 79), ('difference', 74)]\n",
      "\n",
      "Cluster 26: \n",
      "[('cherry', 674), ('pizza', 277), ('pie', 271), ('pumpkin', 204), ('crust', 189), ('creamer', 178), ('cashew', 154), ('tart', 80), ('cranberry', 74), ('fall', 70)]\n",
      "\n",
      "Cluster 27: \n",
      "[('pod', 1005), ('machine', 687), ('cinnamon', 536), ('espresso', 292), ('peppermint', 247), ('senseo', 187), ('mocha', 106), ('maker', 97), ('latte', 95), ('keurig', 74)]\n",
      "\n",
      "Cluster 28: \n",
      "[('chew', 872), ('gum', 774), ('bone', 593), ('teeth', 370), ('pet', 291), ('toy', 268), ('lab', 130), ('ship', 121), ('rawhide', 108), ('stick', 102)]\n",
      "\n",
      "Cluster 29: \n",
      "[('roast', 923), ('starbucks', 762), ('dark', 747), ('keurig', 442), ('mountain', 381), ('decaf', 377), ('medium', 363), ('shop', 203), ('hazelnut', 200), ('maker', 183)]\n",
      "\n"
     ]
    }
   ],
   "source": [
    "# Display the top 10 words from each cluster\n",
    "clusters_dist = []\n",
    "for indv_cluster_words in clusters_all_words:\n",
    "\n",
    "    fdist = nltk.FreqDist(indv_cluster_words)\n",
    "    clusters_dist.append(fdist.most_common(10))\n",
    "\n",
    "i = 0\n",
    "for cluster in clusters_dist:\n",
    "    print('Cluster ' + str(i) + ': ')\n",
    "    print(cluster)\n",
    "    print('')\n",
    "    i += 1"
   ]
  },
  {
   "cell_type": "code",
   "execution_count": 36,
   "metadata": {},
   "outputs": [
    {
     "data": {
      "text/plain": [
       "(-0.5, 399.5, 199.5, -0.5)"
      ]
     },
     "execution_count": 36,
     "metadata": {},
     "output_type": "execute_result"
    },
    {
     "data": {
      "image/png": "[encoded data removed]",
      "text/plain": [
       "<Figure size 432x288 with 1 Axes>"
      ]
     },
     "metadata": {
      "needs_background": "light"
     },
     "output_type": "display_data"
    }
   ],
   "source": [
    "# Display each cluster in a word cloud\n",
    "cluster_words = ''\n",
    "for word, count in clusters_dist[10]:\n",
    "    word_ = word + ' '\n",
    "    cluster_words += word_\n",
    "\n",
    "from wordcloud import WordCloud\n",
    "\n",
    "# Generate a word cloud image\n",
    "wordcloud = WordCloud(background_color=\"white\").generate(cluster_words)\n",
    "\n",
    "# Display the generated image:\n",
    "import matplotlib.pyplot as plt\n",
    "plt.imshow(wordcloud, interpolation='bilinear')\n",
    "plt.axis(\"off\")"
   ]
  },
  {
   "cell_type": "code",
   "execution_count": 37,
   "metadata": {},
   "outputs": [
    {
     "name": "stderr",
     "output_type": "stream",
     "text": [
      "C:\\Users\\denys\\Anaconda3\\lib\\site-packages\\sklearn\\utils\\deprecation.py:144: FutureWarning: The sklearn.metrics.classification module is  deprecated in version 0.22 and will be removed in version 0.24. The corresponding classes / functions should instead be imported from sklearn.metrics. Anything that cannot be imported from sklearn.metrics is now part of the private API.\n",
      "  warnings.warn(message, FutureWarning)\n"
     ]
    }
   ],
   "source": [
    "from yellowbrick.text import FreqDistVisualizer\n",
    "from sklearn.feature_extraction.text import CountVectorizer"
   ]
  },
  {
   "cell_type": "code",
   "execution_count": 39,
   "metadata": {},
   "outputs": [
    {
     "data": {
      "image/png": "[encoded data removed]",
      "text/plain": [
       "<Figure size 576x396 with 1 Axes>"
      ]
     },
     "metadata": {},
     "output_type": "display_data"
    },
    {
     "data": {
      "image/png": "[encoded data removed]",
      "text/plain": [
       "<Figure size 576x396 with 1 Axes>"
      ]
     },
     "metadata": {},
     "output_type": "display_data"
    }
   ],
   "source": [
    "# Display a bar chart to show the frequency of the words for each cluster\n",
    "for i in range(2):\n",
    "    all_words=[]\n",
    "    for fid in clusters[i]:\n",
    "\n",
    "        per_group = ' '.join(compiled_list[fid])\n",
    "        all_words.append(per_group)\n",
    "        \n",
    "    vectorizer = CountVectorizer()\n",
    "    docs       = vectorizer.fit_transform(all_words)\n",
    "    features   = vectorizer.get_feature_names()\n",
    "\n",
    "\n",
    "    visualizer = FreqDistVisualizer(features=features, orient='h', n=10)\n",
    "    visualizer.fit(docs)\n",
    "    visualizer.show()"
   ]
  },
  {
   "cell_type": "markdown",
   "metadata": {},
   "source": [
    "## 7. Retrieving top 5 most relevant documents"
   ]
  },
  {
   "cell_type": "code",
   "execution_count": 40,
   "metadata": {},
   "outputs": [],
   "source": [
    "#convert all the reviews in cluster 5 into a list of sparse vectors\n",
    "review_vecs = [dictionary.doc2bow(compiled_list[fid]) for fid in clusters[29]]"
   ]
  },
  {
   "cell_type": "code",
   "execution_count": 41,
   "metadata": {},
   "outputs": [],
   "source": [
    "from gensim import similarities\n",
    "\n",
    "#building the index from the list of sparse vectors\n",
    "\n",
    "index = similarities.SparseMatrixSimilarity(review_vecs,23690) "
   ]
  },
  {
   "cell_type": "code",
   "execution_count": 42,
   "metadata": {},
   "outputs": [],
   "source": [
    "#retrieve top 30 words from cluster 5 that represents the cluster\n",
    "clusters_dist = []\n",
    "\n",
    "fdist = nltk.FreqDist(clusters_all_words[29])\n",
    "clusters_dist=fdist.most_common(30)\n",
    "\n",
    "top_words = []\n",
    "for word in clusters_dist:\n",
    "    top_words.append(word[0])"
   ]
  },
  {
   "cell_type": "code",
   "execution_count": 43,
   "metadata": {},
   "outputs": [],
   "source": [
    "#compute cosine similarity with the top 30 words in the cluster and all thre reviews in the cluster\n",
    "top_words_vec = dictionary.doc2bow(top_words)\n",
    "sims = index[top_words_vec] \n",
    "sorted_sims = sorted(enumerate(sims), key = lambda item: -item[1])\n"
   ]
  },
  {
   "cell_type": "code",
   "execution_count": 44,
   "metadata": {},
   "outputs": [
    {
     "name": "stdout",
     "output_type": "stream",
     "text": [
      "[(2460, 0.40414518), (927, 0.38729832), (464, 0.372678), (1075, 0.372678), (2126, 0.372678)]\n"
     ]
    }
   ],
   "source": [
    "#return the position of the top 5 most relevant reviews in the cluster\n",
    "print(sorted_sims[0:5])\n",
    "final_reviews = sorted_sims[0:5]"
   ]
  },
  {
   "cell_type": "code",
   "execution_count": 45,
   "metadata": {},
   "outputs": [],
   "source": [
    "top_position = [review[0] for review in final_reviews]"
   ]
  },
  {
   "cell_type": "code",
   "execution_count": 46,
   "metadata": {},
   "outputs": [
    {
     "name": "stdout",
     "output_type": "stream",
     "text": [
      "[58851, 22122, 11132, 25328, 50295]\n"
     ]
    }
   ],
   "source": [
    "#retrieve the top 5 most relevant review id in the cluster\n",
    "final =[]\n",
    "for position in top_position:\n",
    "    final.append(clusters[29][position])\n",
    "print(final)"
   ]
  },
  {
   "cell_type": "code",
   "execution_count": 47,
   "metadata": {},
   "outputs": [
    {
     "name": "stdout",
     "output_type": "stream",
     "text": [
      "ProductId: B000JVAEPQ\n",
      "Tully's Coffee \"Italian Roast (Bold)\" K-Cups makes a very good cup of coffee in my <a href=\"http://www.amazon.com/gp/product/B000AQPMHA\">Keurig B-40 B40 Elite Gourmet Single-Cup Home-Brewing System</a>. This is a fairly strong tasting brew that has much more flavor than the <a href=\"http://www.amazon.com/gp/product/B0029XDZIK\">Coffee People, Donut Shop K-Cups for Keurig Brewers (Pack of 50) [Amazon Frustration-Free Packaging</a>] I generally drink in the morning.<br /><br />I really enjoy the rich flavor of this coffee but my wife thinks it is \"slightly burnt\" tasting. It is not as \"bold\" as <a href=\"http://www.amazon.com/gp/product/B001D0IZBM\">Emeril's Big Easy Bold Coffee for Keurig Brewers, 24-Count K-Cups (Pack of 2)</a> when made on the machine's \"large\" cup setting.<br /><br />Recommended!<br /><br />CFH\n",
      "\n",
      "\n",
      "ProductId: B007OXJL0G\n",
      "These Green Mountain \"Caramel Vanilla Cream\" K-Cups make good tasting coffee, with noticeable but not overpowering caramel and vanilla flavors. These make a nice alternative to to our regular coffee (<a href=\"http://www.amazon.com/gp/product/B0029XDZIK\">Coffee People, Donut Shop K-Cups for Keurig Brewers (Pack of 50)</a>, which we love) when we want something a little more dessert like.<br /><br />This is not the strongest coffee, but it is a nice treat and is good both hot or iced.<br /><br />Recommended!<br /><br />CFH\n",
      "\n",
      "\n",
      "ProductId: B007PA30XM\n",
      "This tasted like hot water, mildly flavored with coffee. It smells good, but tastes awful. I would have returned it, if Amazon allowed food items to be returned. I ended up giving this away to a friend who prefers weak coffee and decaf coffee, and even she said this was too weak to drink. This product has soured me on Green Mountain K-Cups. I'll probably stick to Donut Shop and Starbucks K-Cups after this\n",
      "\n",
      "\n",
      "ProductId: B004L04UNI\n",
      "I buy a 50 count donut shop and 4 boxes of half-caff a month..I have 2 Kuerigs, one at home and one at work...this half caff doen't taste like decaf at all..it is rich and full of taste..no aftertaste. It is a medium roast and full of flavor.\n",
      "\n",
      "\n",
      "ProductId: B001D0IZBM\n",
      "Emeril's \"Big Easy Bold Coffee\" K-Cups makes a very good cup of coffee in my <a href=\"http://www.amazon.com/gp/product/B000AQPMHA\">Keurig B-40 B40 Elite Gourmet Single-Cup Home-Brewing System</a>. This is a very strong tasting brew that has much more flavor and kick than the <a href=\"http://www.amazon.com/gp/product/B0029XDZIK\">Coffee People, Donut Shop K-Cups for Keurig Brewers (Pack of 50) [Amazon Frustration-Free Packaging</a>] I generally drink in the morning.<br /><br />I should note that my wife finds it too bitter on the \"Small\" cup setting for her liking, but I think it tastes great either way.<br /><br />Highly Recommended!<br /><br />CFH\n",
      "\n",
      "\n"
     ]
    }
   ],
   "source": [
    "# Display the top 5 most relevant reviews with the ID  and store it in a list\n",
    "top_5_reviews = []\n",
    "top_5_reviews_products = []\n",
    "for i in final:\n",
    "    top_5_reviews_products.append(ProductId_list_final[i])\n",
    "    top_5_reviews.append(Text_list_final[i])\n",
    "    print(\"ProductId: \" + ProductId_list_final[i])\n",
    "    print(Text_list_final[i])\n",
    "    print(\"\\n\")"
   ]
  },
  {
   "cell_type": "markdown",
   "metadata": {},
   "source": [
    "## 8. Document Insertion\n",
    "\n",
    "We mainly used wordnets from sklearn to perform the document insertion. Our rationale was to compare the semantics of each word of the new review with the top 30 words from each cluster. We then summed the similarity score to derive the highest scoring cluster. We determined that this was the cluster that the review belonged to."
   ]
  },
  {
   "cell_type": "code",
   "execution_count": 48,
   "metadata": {},
   "outputs": [
    {
     "name": "stdout",
     "output_type": "stream",
     "text": [
      "[nltk_data] Downloading package punkt to C:\\nltk_data...\n",
      "[nltk_data]   Package punkt is already up-to-date!\n",
      "[nltk_data] Downloading package wordnet to C:\\nltk_data...\n",
      "[nltk_data]   Package wordnet is already up-to-date!\n"
     ]
    },
    {
     "data": {
      "text/plain": [
       "True"
      ]
     },
     "execution_count": 48,
     "metadata": {},
     "output_type": "execute_result"
    }
   ],
   "source": [
    "import string\n",
    "from string import digits\n",
    "from sklearn import preprocessing\n",
    "import itertools\n",
    "\n",
    "import scipy\n",
    "import re, nltk\n",
    "from nltk.corpus import wordnet as wn\n",
    "nltk.download('punkt')\n",
    "import itertools\n",
    "nltk.download('wordnet')"
   ]
  },
  {
   "cell_type": "markdown",
   "metadata": {},
   "source": [
    "The review below was randomly picked from our original dataset and is not in the sample of the datatset we took initially."
   ]
  },
  {
   "cell_type": "code",
   "execution_count": 49,
   "metadata": {},
   "outputs": [],
   "source": [
    "inserted_text = \"This is the best berry pie out there for me, the texture is amazing, its super crunchy. I love the cranberry pastry from this brand too but I cannot find it in markets anymore. Thank god I found it on Amazon. \""
   ]
  },
  {
   "cell_type": "code",
   "execution_count": 50,
   "metadata": {},
   "outputs": [],
   "source": [
    "# Peform text preprocessing \n",
    "\n",
    "import nltk\n",
    "from nltk.tokenize import word_tokenize\n",
    "import re\n",
    "stop_list = nltk.corpus.stopwords.words('english')\n",
    "stemmer = nltk.stem.porter.PorterStemmer()\n",
    "\n",
    "inserted_text_nouns = []\n",
    "# PlaintextCorpusReader automatically tokenize the words when reading the text\n",
    "for w in inserted_text.split():\n",
    "    doc1 = [w.lower()]\n",
    "    doc2 = [w for w in doc1 if re.search('^[a-z]+$', w)]\n",
    "    doc3 = [w for w in doc2 if w not in stop_list]\n",
    "\n",
    "    tagsText= nltk.pos_tag(doc3)\n",
    "\n",
    "    \n",
    "    propernouns = [word for word,pos in tagsText if pos in ['NN','NNS','NNP','NNPS']]\n",
    "    inserted_text_nouns.append(propernouns)"
   ]
  },
  {
   "cell_type": "code",
   "execution_count": 51,
   "metadata": {},
   "outputs": [],
   "source": [
    "compiled_noun_list =[]\n",
    "for element in inserted_text_nouns:\n",
    "    if len(element) != 0:\n",
    "        for word in element:\n",
    "            compiled_noun_list.append(word)"
   ]
  },
  {
   "cell_type": "code",
   "execution_count": 52,
   "metadata": {},
   "outputs": [],
   "source": [
    "from nltk.stem import WordNetLemmatizer\n",
    "lemmatizer = WordNetLemmatizer()\n",
    "query_noun_list =[]\n",
    "for word in compiled_noun_list:\n",
    "    query_noun_list.append(lemmatizer.lemmatize(word))"
   ]
  },
  {
   "cell_type": "markdown",
   "metadata": {},
   "source": [
    "We created a list, query_noun_list, for all the proper nouns in the new review."
   ]
  },
  {
   "cell_type": "code",
   "execution_count": 53,
   "metadata": {},
   "outputs": [
    {
     "data": {
      "text/plain": [
       "['berry',\n",
       " 'pie',\n",
       " 'texture',\n",
       " 'super',\n",
       " 'love',\n",
       " 'cranberry',\n",
       " 'pastry',\n",
       " 'brand',\n",
       " 'cannot',\n",
       " 'market',\n",
       " 'thank',\n",
       " 'god',\n",
       " 'found']"
      ]
     },
     "execution_count": 53,
     "metadata": {},
     "output_type": "execute_result"
    }
   ],
   "source": [
    "query_noun_list"
   ]
  },
  {
   "cell_type": "markdown",
   "metadata": {},
   "source": [
    "We also took out the top 30 most frequent words from each cluster and formed a list. These lists were then appended to cluster_top30list."
   ]
  },
  {
   "cell_type": "code",
   "execution_count": 54,
   "metadata": {},
   "outputs": [],
   "source": [
    "topfreq_list =[]\n",
    "for i in range(len(clusters_all_words)):\n",
    "    fdist = nltk.FreqDist(clusters_all_words[i])\n",
    "    topfreq_list.append(fdist.most_common(30))"
   ]
  },
  {
   "cell_type": "code",
   "execution_count": 55,
   "metadata": {},
   "outputs": [],
   "source": [
    "clusters_top30list =[]\n",
    "for i in range(len(topfreq_list)):\n",
    "    my_list =[]\n",
    "    for word,num in topfreq_list[i]:\n",
    "        my_list.append(word)\n",
    "    clusters_top30list.append(my_list)"
   ]
  },
  {
   "cell_type": "code",
   "execution_count": 56,
   "metadata": {},
   "outputs": [
    {
     "name": "stdout",
     "output_type": "stream",
     "text": [
      "['ginger', 'date', 'cake', 'cookie', 'daughter', 'almond', 'thanks', 'wheat', 'enjoy', 'gluten', 'glad', 'potato', 'someone', 'market', 'packaging', 'cocoa', 'value', 'expiration', 'mint', 'cook', 'stock', 'sweet', 'worth', 'thought', 'delivery', 'pay', 'difference', 'hope', 'keep', 'life']\n"
     ]
    }
   ],
   "source": [
    "print(clusters_top30list[0])"
   ]
  },
  {
   "cell_type": "markdown",
   "metadata": {},
   "source": [
    "#### Using sklearn's wordnet, we compared the meaning of each noun in the review with each top noun in each cluster.\n",
    "\n",
    "Firstly, to compare every noun in the new review with each noun from cluster_top30list, we performed three for loops. One to loop through all the 30 lists in cluster_top30list, another to loop through all the elements in each cluster list and lastly, one to loop through all the elements in the query_noun_list.\n",
    "\n",
    "Next, we set variable x and y to contain all the synsets for an element from the query_noun_list and an element from the top 30 nouns of a cluster respectively.\n",
    "\n",
    "We then retrieved the first synset from x and y and compared the similarity of the two. If the similarity was returned as None, we replaced it with a score of 0 as it represents that there was no similarity between the words at all.\n",
    "\n",
    "Lastly, we summed the total score achieved by each cluster and appended it to score_list."
   ]
  },
  {
   "cell_type": "code",
   "execution_count": 57,
   "metadata": {},
   "outputs": [],
   "source": [
    "score_list =[]\n",
    "\n",
    "test_list_tokens = query_noun_list\n",
    "query_tokens = clusters_top30list\n",
    "\n",
    "for a in range(0,len(query_tokens)):\n",
    "    total_score =0\n",
    "    for b in range (0,len(query_tokens[a])):\n",
    "        for c in range(0, len(test_list_tokens)):\n",
    "            x =wn.synsets(test_list_tokens[c])\n",
    "            y =wn.synsets(query_tokens[a][b])\n",
    "\n",
    "            if (len(x) !=0) and (len(y) !=0):\n",
    "                ai = x[0]\n",
    "                bi = y[0]\n",
    "                xyz = ai.wup_similarity(bi)\n",
    "                if xyz is None:\n",
    "                    xyz = 0\n",
    "\n",
    "             \n",
    "                total_score+=xyz\n",
    "\n",
    "\n",
    "    score_list.append(total_score)"
   ]
  },
  {
   "cell_type": "code",
   "execution_count": 58,
   "metadata": {},
   "outputs": [
    {
     "data": {
      "text/plain": [
       "[83.55968986069955,\n",
       " 76.3617766385907,\n",
       " 72.27532711526523,\n",
       " 77.21359064314052,\n",
       " 79.5919814298265,\n",
       " 75.65001403847359,\n",
       " 75.50686151272645,\n",
       " 65.53827519215055,\n",
       " 81.54413129503732,\n",
       " 82.3478470064957,\n",
       " 79.08035055722168,\n",
       " 78.97526257450552,\n",
       " 68.2695297298535,\n",
       " 74.62067969399187,\n",
       " 71.15270921664455,\n",
       " 71.87121749976444,\n",
       " 82.8953239276541,\n",
       " 78.0590674483831,\n",
       " 77.88055837583104,\n",
       " 79.72028497078385,\n",
       " 76.54334519117542,\n",
       " 75.54773796670433,\n",
       " 76.46577527234889,\n",
       " 80.73791472163322,\n",
       " 72.10194987414337,\n",
       " 83.26664441024059,\n",
       " 86.30373050477453,\n",
       " 72.87726751606485,\n",
       " 75.54200422571414,\n",
       " 70.12262558607694]"
      ]
     },
     "execution_count": 58,
     "metadata": {},
     "output_type": "execute_result"
    }
   ],
   "source": [
    "score_list"
   ]
  },
  {
   "cell_type": "markdown",
   "metadata": {},
   "source": [
    "Here, we retrieved the index of the highest score and returned the top 30 words from that cluster."
   ]
  },
  {
   "cell_type": "code",
   "execution_count": 59,
   "metadata": {},
   "outputs": [
    {
     "data": {
      "text/plain": [
       "26"
      ]
     },
     "execution_count": 59,
     "metadata": {},
     "output_type": "execute_result"
    }
   ],
   "source": [
    "score_list.index(max(score_list))"
   ]
  },
  {
   "cell_type": "markdown",
   "metadata": {},
   "source": [
    "We can derive that the top nouns of this cluster are sematically similar or identical to the nouns in the query. An example will be \"pie\" which appear in both the cluster and the new review."
   ]
  },
  {
   "cell_type": "code",
   "execution_count": 60,
   "metadata": {},
   "outputs": [
    {
     "data": {
      "text/plain": [
       "['cherry',\n",
       " 'pizza',\n",
       " 'pie',\n",
       " 'pumpkin',\n",
       " 'crust',\n",
       " 'creamer',\n",
       " 'cashew',\n",
       " 'tart',\n",
       " 'cranberry',\n",
       " 'fall',\n",
       " 'cappuccino',\n",
       " 'flour',\n",
       " 'bay',\n",
       " 'gluten',\n",
       " 'soda',\n",
       " 'berry',\n",
       " 'blueberry',\n",
       " 'sweet',\n",
       " 'liquid',\n",
       " 'dough',\n",
       " 'manner',\n",
       " 'add',\n",
       " 'pan',\n",
       " 'cook',\n",
       " 'someone',\n",
       " 'cake',\n",
       " 'change',\n",
       " 'planter',\n",
       " 'pure',\n",
       " 'market']"
      ]
     },
     "execution_count": 60,
     "metadata": {},
     "output_type": "execute_result"
    }
   ],
   "source": [
    "clusters_top30list[26]"
   ]
  },
  {
   "cell_type": "markdown",
   "metadata": {},
   "source": [
    "## 9. Cluster Evaluation"
   ]
  },
  {
   "cell_type": "markdown",
   "metadata": {},
   "source": [
    "1. We will retrieve 9 reviews from a cluster and insert a random review. Users will try to identify the irrelevant review.\n"
   ]
  },
  {
   "cell_type": "code",
   "execution_count": 65,
   "metadata": {},
   "outputs": [
    {
     "name": "stdout",
     "output_type": "stream",
     "text": [
      "At the current price you're paying $1.24 per cup which is insane!  The price increase from $25. to $45 was bad enough the increase to $60 is insulting!  I love Tully's Kona and it's my preferred K cup but not at $1.24 per cup! The Keurig site sells Tully's Kona in an 80 pack for roughly $44 - $.55 per cup.  Amazon is seriously deluded if they think the current price is going to induce people to buy this stuff!\n",
      "\n",
      "The coffee I received looked blended with something an had numerous burned beans and char. I have no hesitation calling it the worst Blue Mountain ever. I would NEVER buy from this seller again. A friend of mine bought some at the sane time I did and his package was the same. Dried out, burnt in some cases beans and a harsh stagnant flavor.\n",
      "\n",
      "Bought a case of this Slow As Molasses, Dark and Zesty, last December and I've been using it in MANY baked goods and recipes!  I've had opportunity to compare this molasses to other brands and varieties, and I'd say this is by far the best of the lot!  Yes, it IS very Dark and Very Zesty and that is what makes it so darn good!  I've never made better Pumpernickel!  The price of retail makes a case of this on Amazon VERY advantageous!!\n",
      "\n",
      "I have tried several of the Starbucks coffees and enjoy many of them, but Kenya is my absolute fave.  Waking up to its smell makes me immediately happy :).  Thanks, Starbucks for going all over the world to find very yummy coffees!\n",
      "\n",
      "This is a wonderful tea for the keurig machines.  If you like a tea with no bitter taste then this is the one for you.\n",
      "\n",
      "I ordered this coffee under the impression that it was a medium roast,that was according to the brief description & by zooming in the box on my laptop. On the the side of the box it stated medium. When the coffee arrived today it is not medium it is light. No medium on the box at all, just light. I am very disapointed with this purchase as I wanted at least a medium roast flavor. To be able to get a full flavor at all you will need to use a very small amount of water & make a very small cup of coffee. I'm sure I could send it back but the hassle is not worth it, but will not buy again. If you like extremely light coffee this is for you, if you like to taste your coffee this is No good. I will order bold from now on. As far as taste there is none unless you make about a 4 oz. cup even then it's not very good.<br />Amazon did ship very fast,I received the order sooner than expected & it was packaged very well.<br />Too bad the coffee was not what I ordered/ expected.\n",
      "\n",
      "First of all I have to admit I've been pretty much spoiled on the Newmans own. I don't think there is a coffee out there that can top it. I picked up the Timothy's to see how it compared and to try something different and I like it a lot. However I would have to say so far my favorite from the Timothy's line of coffee is the French Roast Decaf (Yes, i said Decaf). I would not hesitate to buy this again, it's really good coffee. Honestly if you haven't tried it though, I would buy one of the smaller box's of it to try. I did this with a couple others that I found that I really didn't enjoy and I was happy not to have 50 of them sitting on my table.\n",
      "\n",
      "The hazelnut coffee is great.  Definitely recommend it as I plan to do the periodic delivery of this product through Amazon's grocery section.\n",
      "\n",
      "These Emerils Gourmet Coffee, Emeril's Big Easy Bold, K-Cups for Keurig Brewers (Pack of 50) are defective!!! Almost half of them blew the tops off in brewing and filled the coffee mug with coffee grounds, and had to throw away. WILL NOT BY AGAIN!!!\n",
      "\n"
     ]
    }
   ],
   "source": [
    "# Get the first 9 reviews from cluster 29\n",
    "cluster_29_id = clusters[29][0:9]\n",
    "for i in cluster_29_id: \n",
    "    print(Text_list_final[i]) \n",
    "    print('')"
   ]
  },
  {
   "cell_type": "code",
   "execution_count": 66,
   "metadata": {},
   "outputs": [
    {
     "name": "stdout",
     "output_type": "stream",
     "text": [
      "My 13 month old daughter loves these!  They were her first solid food if I recall correctly.  I used to get the regular, but switched when I realized they came in organic.  I feel like the organic ones are smaller though.  Has anyone else noticed that?\n"
     ]
    }
   ],
   "source": [
    "# Get 1 random review that does not belong to cluster 29\n",
    "print(Text_list_final[700])"
   ]
  },
  {
   "cell_type": "markdown",
   "metadata": {},
   "source": [
    "2. We will manually label 100 reviews with their corresponding clusters. \n",
    "We will then use our model to assign these reviews into clusters and check if the output is the same. \n"
   ]
  },
  {
   "cell_type": "code",
   "execution_count": 61,
   "metadata": {},
   "outputs": [],
   "source": [
    "# Manually classify the last 100 reviews into the cluster\n",
    "manual_review_results= [20,29,22,6,9,0,29,12,25,20,\n",
    "                        29,25,22,0,29,1,14,19,1,0,\n",
    "                        20,28,19,18,8,20,19,19,14,16,\n",
    "                        19,21,21,6,15,6,0,22,29,26,\n",
    "                        11,15,11,27,15,1,29,1,21,1,\n",
    "                        15,11,0,28,29,0,6,0,6,6,\n",
    "                        0,11,0,19,28,6,0,0,29,23,\n",
    "                        0,23,9,16,28,19,13,11,2,14, \n",
    "                        19,1,15,15,27,13,20,20,3,1, \n",
    "                        28,19,11,23,25,20,15,21,3,0]                       "
   ]
  },
  {
   "cell_type": "code",
   "execution_count": 62,
   "metadata": {},
   "outputs": [],
   "source": [
    "# Retrieving the clusters of the last 100 reviews that has been classified by the model\n",
    "\n",
    "model_results = []\n",
    "for i in range(len(Text_list_final)-1,len(Text_list_final)-101,-1):\n",
    "    for j in range(len(clusters)):\n",
    "        if i in clusters[j]:\n",
    "            model_results.append(j)\n",
    "model_results = model_results[::-1]\n",
    "\n",
    "# print(model_results[::-1])"
   ]
  },
  {
   "cell_type": "code",
   "execution_count": 64,
   "metadata": {},
   "outputs": [
    {
     "name": "stdout",
     "output_type": "stream",
     "text": [
      "Accuracy Score :  0.59\n"
     ]
    }
   ],
   "source": [
    "#comparing the results\n",
    "from sklearn.metrics import accuracy_score, recall_score, precision_score\n",
    "\n",
    "print(\"Accuracy Score : \",accuracy_score(model_results, manual_review_results))"
   ]
  },
  {
   "cell_type": "markdown",
   "metadata": {},
   "source": [
    "## Text Analysis Task 2: Sentiment Analysis"
   ]
  },
  {
   "cell_type": "markdown",
   "metadata": {},
   "source": [
    "## 1. Data Processing"
   ]
  },
  {
   "cell_type": "code",
   "execution_count": 72,
   "metadata": {},
   "outputs": [],
   "source": [
    "# Obtain text review column\n",
    "text = df['Text']"
   ]
  },
  {
   "cell_type": "code",
   "execution_count": 73,
   "metadata": {},
   "outputs": [],
   "source": [
    "# Split into test and train data\n",
    "from sklearn.model_selection import train_test_split\n",
    "x_train,x_test=train_test_split(text,test_size=0.2)"
   ]
  },
  {
   "cell_type": "code",
   "execution_count": null,
   "metadata": {},
   "outputs": [],
   "source": [
    "# Save train data set\n",
    "f = open(\"training.txt\", \"w\", encoding = 'utf-8')\n",
    "for row in x_train: \n",
    "    f.write(row)\n",
    "    f.write('\\n')\n",
    "f.close()"
   ]
  },
  {
   "cell_type": "code",
   "execution_count": null,
   "metadata": {},
   "outputs": [],
   "source": [
    "# Save test data set\n",
    "f = open(\"test.txt\", \"w\", encoding = 'utf-8')\n",
    "for row in x_test: \n",
    "    f.write(row)\n",
    "    f.write('\\n')\n",
    "f.close()"
   ]
  },
  {
   "cell_type": "code",
   "execution_count": null,
   "metadata": {},
   "outputs": [],
   "source": [
    "# Obtain first 100 data from training data to do manual sentiment analysis\n",
    "f = open(\"testmanual100.txt\", \"w\")\n",
    "count = 0\n",
    "for row in x_test: \n",
    "    if count < 100:\n",
    "        f.write(row)\n",
    "        f.write('\\n')\n",
    "        count += 1\n",
    "f.close()"
   ]
  },
  {
   "cell_type": "code",
   "execution_count": 30,
   "metadata": {},
   "outputs": [],
   "source": [
    "import matplotlib.pyplot as plt\n",
    "import seaborn as sns\n",
    "import numpy as np\n",
    "%matplotlib inline"
   ]
  },
  {
   "cell_type": "code",
   "execution_count": 31,
   "metadata": {},
   "outputs": [
    {
     "data": {
      "text/plain": [
       "Text(0, 0.5, 'Number of reviews')"
      ]
     },
     "execution_count": 31,
     "metadata": {},
     "output_type": "execute_result"
    },
    {
     "data": {
      "image/png": "[encoded data removed]",
      "text/plain": [
       "<Figure size 432x288 with 1 Axes>"
      ]
     },
     "metadata": {
      "needs_background": "light"
     },
     "output_type": "display_data"
    }
   ],
   "source": [
    "# A bar plot showing that a review is long = alot of sentences. \n",
    "# we gauge that a sentence length is ~ 100 \n",
    "# Hence, we break up reviews into sentences before performing sentiment analysis.\n",
    "\n",
    "# Adding length of each review to df\n",
    "df['review_len'] = df['Text'].astype(str).apply(len)\n",
    "\n",
    "# Plotting a bar graph\n",
    "bins= [0,100,300,500,1000,5000]\n",
    "reviews = df.groupby(pd.cut(df['review_len'], bins=bins)).review_len.count()\n",
    "reviews.plot(kind='bar', color = (0.5,0.1,0.5,0.6))\n",
    "plt.xlabel('Length of review')\n",
    "plt.ylabel('Number of reviews')"
   ]
  },
  {
   "cell_type": "markdown",
   "metadata": {},
   "source": [
    "## 2. Clean the Train Dataset and label with Vader Sentiment Analysis"
   ]
  },
  {
   "cell_type": "code",
   "execution_count": 18,
   "metadata": {},
   "outputs": [],
   "source": [
    "import re\n",
    "def cleanhtml(raw_html):\n",
    "    cleanr = re.compile('<.*?>')\n",
    "    cleantext = re.sub(cleanr, '', raw_html)\n",
    "    return cleantext\n",
    "\n",
    "def decontracted(phrase):\n",
    "    # specific\n",
    "    phrase = re.sub(r\"won\\'t\", \"will not\", phrase)\n",
    "    phrase = re.sub(r\"can\\'t\", \"can not\", phrase)\n",
    "\n",
    "    # general\n",
    "    phrase = re.sub(r\"n\\'t\", \" not\", phrase)\n",
    "    phrase = re.sub(r\"\\'re\", \" are\", phrase)\n",
    "    phrase = re.sub(r\"\\'s\", \" is\", phrase)\n",
    "    phrase = re.sub(r\"\\'d\", \" would\", phrase)\n",
    "    phrase = re.sub(r\"\\'ll\", \" will\", phrase)\n",
    "    phrase = re.sub(r\"\\'t\", \" not\", phrase)\n",
    "    phrase = re.sub(r\"\\'ve\", \" have\", phrase)\n",
    "    phrase = re.sub(r\"\\'m\", \" am\", phrase)\n",
    "    return phrase\n",
    "\n"
   ]
  },
  {
   "cell_type": "code",
   "execution_count": 19,
   "metadata": {},
   "outputs": [],
   "source": [
    "#Vader testing \n",
    "from vaderSentiment.vaderSentiment import SentimentIntensityAnalyzer\n",
    "  \n",
    "sid_obj = SentimentIntensityAnalyzer() \n",
    "# function to print sentiments \n",
    "# of the sentence. \n",
    "def sentiment_scores(sentence): \n",
    "  \n",
    "    # Create a SentimentIntensityAnalyzer object. \n",
    "    sid_obj = SentimentIntensityAnalyzer() \n",
    "  \n",
    "    # polarity_scores method of SentimentIntensityAnalyzer \n",
    "    # oject gives a sentiment dictionary. \n",
    "    # which contains pos, neg, neu, and compound scores. \n",
    "    sentiment_dict = sid_obj.polarity_scores(sentence) \n",
    "  \n",
    "    # decide sentiment as positive, negative and neutral \n",
    "    if sentiment_dict['compound'] >= 0.05 : \n",
    "        return(\"+\") \n",
    "  \n",
    "    elif sentiment_dict['compound'] <= - 0.05 : \n",
    "        return(\"-\")  \n",
    "  \n",
    "    \n",
    "def sentiment_analyzer_scores(sentence):\n",
    "    score = sid_obj.polarity_scores(sentence)\n",
    "    print(\"{:-<40} {}\".format(sentence, str(score)))\n"
   ]
  },
  {
   "cell_type": "code",
   "execution_count": null,
   "metadata": {},
   "outputs": [],
   "source": [
    "# Clean the training data \n",
    "import nltk\n",
    "from nltk.tokenize import sent_tokenize, word_tokenize, RegexpTokenizer\n",
    "tokenizer=RegexpTokenizer('\\w+|\\$[\\d\\.]+')\n",
    "\n",
    "# Store the sequence of sentence labels in the following list.\n",
    "labels = []\n",
    "\n",
    "# Store the sentences in a corpus\n",
    "corpus = []\n",
    "\n",
    "training_file = './training.txt'\n",
    "\n",
    "train =open(training_file,'r')\n",
    "\n",
    "# Get only 80000 reviews\n",
    "\n",
    "count=0\n",
    "\n",
    "for review in train:\n",
    "\n",
    "    if count <80000:\n",
    "        \n",
    "        review = cleanhtml(review)\n",
    "        review = decontracted(review)\n",
    "        \n",
    "        # Tokenize the reviews and get a list of sentences\n",
    "        sentences = sent_tokenize(review)\n",
    "        count+=1\n",
    "        \n",
    "        for sentence in sentences:\n",
    "            #split sentence if theres a dot\n",
    "            sent = sentence.split('.')\n",
    "            \n",
    "            for s in sent:\n",
    "                #Tokenize the sentences\n",
    "                words = tokenizer.tokenize(s)\n",
    "\n",
    "                #if tokenize words not empty, append to corpus\n",
    "                if words != []:\n",
    "                    corpus.append(words)\n",
    "                    \n",
    "train.close()"
   ]
  },
  {
   "cell_type": "code",
   "execution_count": null,
   "metadata": {},
   "outputs": [],
   "source": [
    "#Labelling our train data set(80000 reviews) using Vader Sentiment Analysis\n",
    "\n",
    "labelled = open('labelledtraining.txt','w')\n",
    "\n",
    "for sent in corpus:\n",
    "    \n",
    "    # Joining words to form sentence\n",
    "    sent=' '.join(sent)\n",
    "    \n",
    "    #Apply Vader Sentiment Analysis\n",
    "    score=sentiment_scores(sent)\n",
    "      \n",
    "    #positive label\n",
    "    if score == '+':\n",
    "        labelled.write('+')\n",
    "        labelled.write('\\t')\n",
    "        labelled.write(sent)\n",
    "        labelled.write('\\n')\n",
    "\n",
    "    #negative label\n",
    "    elif score =='-':\n",
    "        labelled.write('-')\n",
    "        labelled.write('\\t')\n",
    "        labelled.write(sent)\n",
    "        labelled.write('\\n')\n",
    "            \n",
    "labelled.close()"
   ]
  },
  {
   "cell_type": "markdown",
   "metadata": {},
   "source": [
    "## 3. Train Naive Bayes Classifier & Test accuracy on manually labelled test data"
   ]
  },
  {
   "cell_type": "code",
   "execution_count": 4,
   "metadata": {},
   "outputs": [
    {
     "name": "stderr",
     "output_type": "stream",
     "text": [
      "C:\\Users\\Boon Hwee\\Anaconda3\\kelly\\lib\\site-packages\\gensim\\utils.py:1197: UserWarning: detected Windows; aliasing chunkize to chunkize_serial\n",
      "  warnings.warn(\"detected Windows; aliasing chunkize to chunkize_serial\")\n"
     ]
    },
    {
     "name": "stdout",
     "output_type": "stream",
     "text": [
      "Finished reading sentences from the training data file.\n",
      "Finished preparing the training data.\n",
      "Finished training the classifier.\n"
     ]
    }
   ],
   "source": [
    "# NaiveBayes Classifier\n",
    "import nltk\n",
    "import gensim\n",
    "\n",
    "stop_list = nltk.corpus.stopwords.words('english')\n",
    "stemmer = nltk.stem.porter.PorterStemmer()\n",
    "\n",
    "# The variable below specifies which file is used for training.\n",
    "# You can modify this variable to use a different file for training.\n",
    "training_file = './labelledtraining.txt'\n",
    "\n",
    "# Open the training file.\n",
    "f = open(training_file, 'r')\n",
    "\n",
    "# We use the following list to store the sequence of sentence labels.\n",
    "labels = []\n",
    "\n",
    "# We use the following list to store the sentences, where each sentence itself is a list of words.\n",
    "corpus = []\n",
    "training_data=[]\n",
    "\n",
    "for line in f:\n",
    "    # For each line of the input file, extract the label and the text.\n",
    "    line = line.strip()\n",
    "    (label, text) = line.split('\\t')\n",
    "    \n",
    "    # Store the label into the list of labels.\n",
    "    labels.append(label)\n",
    "    \n",
    "    # Tokenize the text.\n",
    "    sent = nltk.word_tokenize(text)\n",
    "    \n",
    "    # Store the sentence into the corpus.\n",
    "    corpus.append(sent)\n",
    "    training_data.append(sent)\n",
    "\n",
    "f.close()\n",
    "\n",
    "print('Finished reading sentences from the training data file.')\n",
    "\n",
    "# Create a dictionary from the corpus.\n",
    "dictionary = gensim.corpora.Dictionary(corpus)\n",
    "\n",
    "# Store the labeled training data in the following list.\n",
    "labeled_training_data = []\n",
    "    \n",
    "# Going through the two lists in parallel to create the labeled data set.\n",
    "for (l, s) in zip(labels, corpus):\n",
    "\n",
    "    # Convert the original sentence into a vector.\n",
    "    vector = dictionary.doc2bow(s)\n",
    "    \n",
    "    # Create a dict object to store the document vector (in order to use NLTK's classifier later)\n",
    "    sent_as_dict = {id:1 for (id, tf) in vector}\n",
    "    \n",
    "    # Add the labeled sentence to the labeled data set.\n",
    "    labeled_training_data.append((sent_as_dict, l))\n",
    "    \n",
    "print('Finished preparing the training data.')\n",
    "\n",
    "# Training a classifier.\n",
    "# Choose one of the following two classification algorithms to train a classifier.\n",
    "classifier = nltk.NaiveBayesClassifier.train(labeled_training_data)\n",
    "\n",
    "print('Finished training the classifier.')"
   ]
  },
  {
   "cell_type": "code",
   "execution_count": 4,
   "metadata": {},
   "outputs": [],
   "source": [
    "#Saving the Naivebayes Classifier to current directory as \"naivebayes.pickle\". So that we don't have to train it all the time. We can just reuse it.\n",
    "import pickle\n",
    "save_classifier = open(\"naivebayes.pickle\",\"wb\") #binary write\n",
    "pickle.dump(classifier, save_classifier)\n",
    "save_classifier.close()\n",
    "\n",
    "#Load the save classifier \n",
    "classifier_saved = open(\"naivebayes.pickle\", \"rb\") #binary read\n",
    "classifier_load = pickle.load(classifier_saved)\n",
    "classifier_saved.close()"
   ]
  },
  {
   "cell_type": "code",
   "execution_count": 5,
   "metadata": {},
   "outputs": [
    {
     "name": "stdout",
     "output_type": "stream",
     "text": [
      "Finished reading sentences from the test data file.\n",
      "Finished preparing the test data.\n",
      "Accuracy on test data:  0.7857142857142857\n"
     ]
    }
   ],
   "source": [
    "# Testing the accuracy of Naivebayes classifier on manually labelled test data set.\n",
    "\n",
    "test_file = './labelledtestmanual100.txt'\n",
    "\n",
    "# Open the test data file.\n",
    "f = open(test_file, 'r')\n",
    "\n",
    "# The following steps are almost the same as the ones for preparing the training data.\n",
    "labels = []\n",
    "corpus = []\n",
    "\n",
    "for line in f:\n",
    "    line = line.strip()\n",
    "    (label, text) = line.split('\\t')\n",
    "    labels.append(label)\n",
    "    sent = nltk.word_tokenize(text)\n",
    "    corpus.append(sent)\n",
    "f.close()\n",
    "\n",
    "print('Finished reading sentences from the test data file.')\n",
    "\n",
    "# Store the labeled test data in the following list.\n",
    "labeled_test_data = []\n",
    "    \n",
    "# Going through the two lists in parallel to create the labeled data set.\n",
    "for (l, s) in zip(labels, corpus):\n",
    "\n",
    "    # Convert the original sentence into a vector.\n",
    "    vector = dictionary.doc2bow(s)\n",
    "    \n",
    "    # Create a dict object to store the document vector (in order to use NLTK's classifier later)\n",
    "    sent_as_dict = {id:1 for (id, tf) in vector}\n",
    "    \n",
    "    # Add the labeled sentence to the labeled data set.\n",
    "    labeled_test_data.append((sent_as_dict, l))\n",
    "    \n",
    "print('Finished preparing the test data.')\n",
    "\n",
    "# Test the accuracy.\n",
    "print(\"Accuracy on test data: \", nltk.classify.accuracy(classifier, labeled_test_data))"
   ]
  },
  {
   "cell_type": "markdown",
   "metadata": {},
   "source": [
    "## 3. Train MaxEnt Classifier & Test accuracy on manually labelled test data\n"
   ]
  },
  {
   "cell_type": "code",
   "execution_count": null,
   "metadata": {},
   "outputs": [],
   "source": [
    "# Maxent Classifier\n",
    "\n",
    "#Set iterations and the define classifer\n",
    "numIterations = 100\n",
    "\n",
    "algorithm = nltk.classify.MaxentClassifier.ALGORITHMS[0]\n",
    "\n",
    "#Train the classifier \n",
    "entclassifier = nltk.MaxentClassifier.train(labeled_training_data, algorithm, max_iter=numIterations)\n",
    "\n",
    "#Print accuracy\n",
    "print(\"Accuracy on test data: \", nltk.classify.accuracy(entclassifier, labeled_test_data))"
   ]
  },
  {
   "cell_type": "markdown",
   "metadata": {},
   "source": [
    "## 4. Predict Labels using Naive Bayes and MaxEnt Classifier on manually labelled test dataset (100 reviews)"
   ]
  },
  {
   "cell_type": "code",
   "execution_count": 6,
   "metadata": {},
   "outputs": [
    {
     "name": "stdout",
     "output_type": "stream",
     "text": [
      "Finished reading sentences from the test data file.\n"
     ]
    }
   ],
   "source": [
    "# Predict labels using both classifiers on manually labelled test data set.\n",
    "\n",
    "classifier_saved = open(\"maxentclassification.pickle\", \"rb\") #binary read\n",
    "maxentclassifier = pickle.load(classifier_saved)\n",
    "classifier_saved.close()\n",
    "\n",
    "classifier_saved = open(\"naivebayes.pickle\", \"rb\") #binary read\n",
    "naiveclassifier = pickle.load(classifier_saved)\n",
    "classifier_saved.close()\n",
    "\n",
    "test_file = './labelledtestmanual100.txt'\n",
    "\n",
    "# Open the test data file.\n",
    "f = open(test_file, 'r')\n",
    "\n",
    "# The following steps are almost the same as the ones for preparing the training data.\n",
    "labels = []\n",
    "corpus = []\n",
    "\n",
    "for line in f:\n",
    "    line = line.strip()\n",
    "    (label, text) = line.split('\\t')\n",
    "    labels.append(label)\n",
    "    sent = nltk.word_tokenize(text)\n",
    "    corpus.append(sent)\n",
    "f.close()\n",
    "\n",
    "print('Finished reading sentences from the test data file.')\n",
    "\n",
    "# Store the labeled test data in the following list.\n",
    "\n",
    "y_pred_maxent1=[]\n",
    "y_true1=[]\n",
    "y_pred_naivebayes1=[]\n",
    "\n",
    "for (l, s) in zip(labels, corpus):\n",
    "    #append true labels\n",
    "    y_true1.append(l)\n",
    "    # Convert the original sentence into a vector.\n",
    "    vector = dictionary.doc2bow(s)\n",
    "    # Create a dict object to store the document vector (in order to use NLTK's classifier later)\n",
    "    sent_as_dict = {id:1 for (id, tf) in vector}\n",
    "\n",
    "    y_pred_maxent1.append(maxentclassifier.classify(sent_as_dict))\n",
    "    y_pred_naivebayes1.append(naiveclassifier.classify(sent_as_dict))\n",
    "    "
   ]
  },
  {
   "cell_type": "code",
   "execution_count": 9,
   "metadata": {},
   "outputs": [
    {
     "name": "stdout",
     "output_type": "stream",
     "text": [
      "              precision    recall  f1-score   support\n",
      "\n",
      "         pos     0.7967    1.0000    0.8869       290\n",
      "         neg     0.0000    0.0000    0.0000        74\n",
      "\n",
      "    accuracy                         0.7967       364\n",
      "   macro avg     0.3984    0.5000    0.4434       364\n",
      "weighted avg     0.6347    0.7967    0.7066       364\n",
      "\n"
     ]
    }
   ],
   "source": [
    "# max ent confusion matrix\n",
    "from sklearn.metrics import classification_report\n",
    "target_names=['pos', 'neg']\n",
    "\n",
    "print(classification_report(y_true1, y_pred_maxent1,target_names=target_names,digits=4))"
   ]
  },
  {
   "cell_type": "code",
   "execution_count": 11,
   "metadata": {},
   "outputs": [
    {
     "name": "stdout",
     "output_type": "stream",
     "text": [
      "              precision    recall  f1-score   support\n",
      "\n",
      "         pos     0.8897    0.8345    0.8612       290\n",
      "         neg     0.4783    0.5946    0.5301        74\n",
      "\n",
      "    accuracy                         0.7857       364\n",
      "   macro avg     0.6840    0.7145    0.6957       364\n",
      "weighted avg     0.8061    0.7857    0.7939       364\n",
      "\n"
     ]
    }
   ],
   "source": [
    "# naivebayes confusion matrix\n",
    "from sklearn.metrics import classification_report\n",
    "target_names=['pos', 'neg']\n",
    "\n",
    "print(classification_report(y_true1, y_pred_naivebayes1,target_names=target_names,digits=4))"
   ]
  },
  {
   "cell_type": "markdown",
   "metadata": {},
   "source": [
    "## 5. Predict Labels using Naive Bayes and MaxEnt Classifier on Labelled Test Dataset (20%)"
   ]
  },
  {
   "cell_type": "code",
   "execution_count": 12,
   "metadata": {},
   "outputs": [],
   "source": [
    "# Clean the test data \n",
    "import nltk\n",
    "from nltk.tokenize import sent_tokenize, word_tokenize, RegexpTokenizer\n",
    "tokenizer=RegexpTokenizer('\\w+|\\$[\\d\\.]+')\n",
    "\n",
    "# Store the sentences in a corpus\n",
    "corpus = []\n",
    "\n",
    "testing_file = './test.txt'\n",
    "\n",
    "test =open(testing_file,'r')\n",
    "\n",
    "for review in test:\n",
    "        \n",
    "        review = cleanhtml(review)\n",
    "        review = decontracted(review)\n",
    "        \n",
    "        # Tokenize the reviews and get a list of sentences\n",
    "        sentences = sent_tokenize(review)\n",
    "        \n",
    "        for sentence in sentences:\n",
    "            #split sentence if theres a dot\n",
    "            sent = sentence.split('.')\n",
    "            \n",
    "            for s in sent:\n",
    "                #Tokenize the sentences\n",
    "                words = tokenizer.tokenize(s)\n",
    "\n",
    "                #if tokenize words not empty, append to corpus\n",
    "                if words != []:\n",
    "                    corpus.append(words)\n",
    "                    \n",
    "test.close()"
   ]
  },
  {
   "cell_type": "code",
   "execution_count": null,
   "metadata": {},
   "outputs": [],
   "source": [
    "#Labelling our test data set using Vader Sentiment Analysis\n",
    "\n",
    "labelled = open('labelledtest.txt','w')\n",
    "\n",
    "for sent in corpus:\n",
    "    \n",
    "    # Joining words to form sentence\n",
    "    sent=' '.join(sent)\n",
    "    \n",
    "    #Apply Vader Sentiment Analysis\n",
    "    score=sentiment_scores(sent)\n",
    "      \n",
    "    #positive label\n",
    "    if score == '+':\n",
    "        labelled.write('+')\n",
    "        labelled.write('\\t')\n",
    "        labelled.write(sent)\n",
    "        labelled.write('\\n')\n",
    "\n",
    "    #negative label\n",
    "    elif score =='-':\n",
    "        labelled.write('-')\n",
    "        labelled.write('\\t')\n",
    "        labelled.write(sent)\n",
    "        labelled.write('\\n')\n",
    "            \n",
    "labelled.close()"
   ]
  },
  {
   "cell_type": "code",
   "execution_count": 5,
   "metadata": {},
   "outputs": [
    {
     "name": "stdout",
     "output_type": "stream",
     "text": [
      "Finished reading sentences from the test data file.\n"
     ]
    }
   ],
   "source": [
    "# Predict labels using both classifiers on labelled test data set.\n",
    "import pickle\n",
    "import nltk\n",
    "classifier_saved = open(\"maxentclassification.pickle\", \"rb\") #binary read\n",
    "maxentclassifier = pickle.load(classifier_saved)\n",
    "classifier_saved.close()\n",
    "\n",
    "classifier_saved = open(\"naivebayes.pickle\", \"rb\") #binary read\n",
    "naiveclassifier = pickle.load(classifier_saved)\n",
    "classifier_saved.close()\n",
    "\n",
    "test_file = './labelledtest.txt'\n",
    "\n",
    "# Open the test data file.\n",
    "f = open(test_file, 'r')\n",
    "\n",
    "# The following steps are almost the same as the ones for preparing the training data.\n",
    "labels = []\n",
    "corpus = []\n",
    "\n",
    "for line in f:\n",
    "    line = line.strip()\n",
    "    (label, text) = line.split('\\t')\n",
    "    labels.append(label)\n",
    "    sent = nltk.word_tokenize(text)\n",
    "    corpus.append(sent)\n",
    "f.close()\n",
    "\n",
    "print('Finished reading sentences from the test data file.')\n",
    "\n",
    "# Store the labeled test data in the following list.\n",
    "\n",
    "y_pred_maxent=[]\n",
    "y_true=[]\n",
    "y_pred_naivebayes=[]\n",
    "\n",
    "for (l, s) in zip(labels, corpus):\n",
    "    #append true labels\n",
    "    y_true.append(l)\n",
    "    # Convert the original sentence into a vector.\n",
    "    vector = dictionary.doc2bow(s)\n",
    "    # Create a dict object to store the document vector (in order to use NLTK's classifier later)\n",
    "    sent_as_dict = {id:1 for (id, tf) in vector}\n",
    "\n",
    "    y_pred_maxent.append(maxentclassifier.classify(sent_as_dict))\n",
    "    y_pred_naivebayes.append(naiveclassifier.classify(sent_as_dict))\n"
   ]
  },
  {
   "cell_type": "code",
   "execution_count": 6,
   "metadata": {},
   "outputs": [
    {
     "name": "stdout",
     "output_type": "stream",
     "text": [
      "              precision    recall  f1-score   support\n",
      "\n",
      "         pos     0.7944    0.9997    0.8853    244409\n",
      "         neg     0.9534    0.0200    0.0392     64530\n",
      "\n",
      "    accuracy                         0.7951    308939\n",
      "   macro avg     0.8739    0.5099    0.4622    308939\n",
      "weighted avg     0.8276    0.7951    0.7086    308939\n",
      "\n"
     ]
    }
   ],
   "source": [
    "# max ent confusion matrix\n",
    "from sklearn.metrics import classification_report\n",
    "target_names=['pos', 'neg']\n",
    "\n",
    "print(classification_report(y_true, y_pred_maxent,target_names=target_names,digits = 4))"
   ]
  },
  {
   "cell_type": "code",
   "execution_count": 7,
   "metadata": {},
   "outputs": [
    {
     "name": "stdout",
     "output_type": "stream",
     "text": [
      "              precision    recall  f1-score   support\n",
      "\n",
      "         pos     0.9443    0.8616    0.9010    244409\n",
      "         neg     0.6063    0.8074    0.6926     64530\n",
      "\n",
      "    accuracy                         0.8503    308939\n",
      "   macro avg     0.7753    0.8345    0.7968    308939\n",
      "weighted avg     0.8737    0.8503    0.8575    308939\n",
      "\n"
     ]
    }
   ],
   "source": [
    "# naivebayes confusion matrix\n",
    "from sklearn.metrics import classification_report\n",
    "target_names=['pos', 'neg']\n",
    "\n",
    "print(classification_report(y_true, y_pred_naivebayes,target_names=target_names, digits = 4 ))"
   ]
  },
  {
   "cell_type": "code",
   "execution_count": 8,
   "metadata": {},
   "outputs": [
    {
     "name": "stdout",
     "output_type": "stream",
     "text": [
      "AxesSubplot(0.125,0.11;0.62x0.77)\n",
      "AxesSubplot(0.125,0.11;0.62x0.77)\n"
     ]
    }
   ],
   "source": [
    "#confusion matrix \n",
    "from sklearn.metrics import confusion_matrix, roc_curve, auc, precision_score, recall_score, f1_score\n",
    "import scikitplot.metrics as sciplot\n",
    "\n",
    "print(sciplot.plot_confusion_matrix(y_true ,y_pred_naivebayes))\n",
    "print(sciplot.plot_confusion_matrix(y_true ,y_pred_maxent))\n"
   ]
  },
  {
   "cell_type": "markdown",
   "metadata": {},
   "source": [
    "## 6. Evaluation on 10 reviews - Comparing labelled with naive bayes classifier & manually labelled"
   ]
  },
  {
   "cell_type": "code",
   "execution_count": null,
   "metadata": {},
   "outputs": [],
   "source": [
    "import nltk\n",
    "from nltk.tokenize import sent_tokenize, word_tokenize, RegexpTokenizer\n",
    "tokenizer=RegexpTokenizer('\\w+|\\$[\\d\\.]+')\n",
    "\n",
    "# Store the sequence of sentence labels in the following list.\n",
    "labels = []\n",
    "\n",
    "# Store the sentences in the following list.\n",
    "corpus = []\n",
    "\n",
    "test_file = './evaluation10.txt'\n",
    "\n",
    "f=open(test_file,'r')\n",
    "# for each review\n",
    "for review in f:\n",
    "    #remove <br>\n",
    "    review = cleanhtml(review)\n",
    "    review = decontracted(review)\n",
    "    # Tokenize the reviews \n",
    "    sentences = sent_tokenize(review) #list of sentence\n",
    "    for sentence in sentences:\n",
    "        #split sentence if theres .\n",
    "        sent = sentence.split('.')\n",
    "        for s in sent:\n",
    "            #Tokenize the sentences\n",
    "            words = tokenizer.tokenize(s)\n",
    "            \n",
    "            #if tokenize words not empty, append to corpus\n",
    "            if words != []:\n",
    "                corpus.append(words)\n",
    "f.close()\n",
    "\n",
    "\n",
    "predicted_labels = []\n",
    "f = open('labelledevaluation10.txt','w')\n",
    "count = 0\n",
    "for sent in corpus:\n",
    "    sente=' '.join(sent)\n",
    "    score=sentiment_scores(sente)\n",
    "    labels.append(score)\n",
    "    \n",
    "for (l, s) in zip(labels, corpus):\n",
    "\n",
    "    # Convert the original sentence into a vector.\n",
    "    vector = dictionary.doc2bow(s)\n",
    "\n",
    "    # Create a dict object to store the document vector (in order to use NLTK's classifier later)\n",
    "    sent_as_dict = {id:1 for (id, tf) in vector}\n",
    "\n",
    "    # Add the labeled sentence to the labeled data set.\n",
    "    # labeled_test_data.append((sent_as_dict, l))\n",
    "    predicted_labels.append(classifier.classify(sent_as_dict))\n",
    "\n",
    "print(predicted_labels)\n",
    "for (a,b) in zip(predicted_labels, corpus):\n",
    "    \n",
    "    f.write(a)\n",
    "    f.write('\\t')\n",
    "    f.write(' '.join(b))\n",
    "    f.write('\\n')\n",
    "    \n",
    "f.close()"
   ]
  },
  {
   "cell_type": "code",
   "execution_count": 9,
   "metadata": {},
   "outputs": [
    {
     "name": "stdout",
     "output_type": "stream",
     "text": [
      "File: <_io.TextIOWrapper name='./manualevaluation10.txt' mode='r' encoding='cp1252'>\n",
      "Accuracy:  0.8518518518518519\n"
     ]
    }
   ],
   "source": [
    "test_file = './labelledevaluation10.txt'\n",
    "manual_file = './manualevaluation10.txt'\n",
    "labels=[]\n",
    "manual=[]\n",
    "f=open(test_file,'r')\n",
    "# for each review\n",
    "for review in f:\n",
    "    #remove <br>\n",
    "    (l,s)=review.split('\\t')\n",
    "    labels.append(l)\n",
    "f.close()\n",
    "\n",
    "f=open(manual_file,'r')\n",
    "# for each review\n",
    "for review in f:\n",
    "    #remove <br>\n",
    "    (l,s)=review.split('\\t')\n",
    "    manual.append(l)\n",
    "f.close()\n",
    "# print(labels)\n",
    "# print(manual)\n",
    "total = len(labels)\n",
    "correct = 0\n",
    "for (tl, pl) in zip(labels, manual):\n",
    "    if tl == pl:\n",
    "        correct = correct + 1\n",
    "accu = correct / total\n",
    "print(\"File:\", f)\n",
    "print(\"Accuracy: \", accu)"
   ]
  },
  {
   "cell_type": "markdown",
   "metadata": {},
   "source": [
    "## 7. Visualisation of our Dataset"
   ]
  },
  {
   "cell_type": "code",
   "execution_count": 45,
   "metadata": {},
   "outputs": [
    {
     "data": {
      "image/png": "[encoded data removed]",
      "text/plain": [
       "<Figure size 576x576 with 1 Axes>"
      ]
     },
     "metadata": {
      "needs_background": "light"
     },
     "output_type": "display_data"
    },
    {
     "data": {
      "image/png": "[encoded data removed]",
      "text/plain": [
       "<Figure size 576x576 with 1 Axes>"
      ]
     },
     "metadata": {
      "needs_background": "light"
     },
     "output_type": "display_data"
    }
   ],
   "source": [
    "# Wordcloud that shows postive and negative words respectively in our training data set\n",
    "labelled_data= pd.read_csv('labelledtraining.txt', encoding='latin1', sep = \"\\t\",  header=None)\n",
    "labelled_data.columns = ['label','sentence']\n",
    "import matplotlib as mpl\n",
    "\n",
    "from wordcloud import WordCloud, STOPWORDS\n",
    "stopwords = set(STOPWORDS)\n",
    "mpl.rcParams['font.size']=12                \n",
    "mpl.rcParams['savefig.dpi']=100            \n",
    "mpl.rcParams['figure.subplot.bottom']=.1 \n",
    "\n",
    "def show_wordcloud(data, title = None):\n",
    "    wordcloud = WordCloud(\n",
    "        background_color='white',\n",
    "        stopwords=stopwords,\n",
    "        max_words=200,\n",
    "        max_font_size=40, \n",
    "        scale=3,\n",
    "        random_state=1 \n",
    "    ).generate(str(data))\n",
    "    \n",
    "    fig = plt.figure(1, figsize=(8, 8))\n",
    "    plt.axis('off')\n",
    "    if title: \n",
    "        fig.suptitle(title, fontsize=20)\n",
    "        fig.subplots_adjust(top=2.3)\n",
    "\n",
    "    plt.imshow(wordcloud)\n",
    "    plt.show()\n",
    "\n",
    "show_wordcloud(labelled_data[\"sentence\"].loc[labelled_data['label'] == '+'],title = 'Positive Sentiments')\n",
    "show_wordcloud(labelled_data[\"sentence\"].loc[labelled_data['label'] == '-'],title = 'Negative Sentiments')"
   ]
  },
  {
   "cell_type": "code",
   "execution_count": 47,
   "metadata": {},
   "outputs": [
    {
     "data": {
      "image/png": "[encoded data removed]",
      "text/plain": [
       "<Figure size 360x360 with 1 Axes>"
      ]
     },
     "metadata": {
      "needs_background": "light"
     },
     "output_type": "display_data"
    }
   ],
   "source": [
    "# Plot number of positive and negative sentiments in labelled training dataset\n",
    "labelled_train_plot = sns.catplot(kind='count', x = 'label', palette=\"pastel\", data = labelled_data)\n",
    "for i, bar in enumerate(labelled_train_plot.ax.patches):\n",
    "    h = bar.get_height()\n",
    "    labelled_train_plot.ax.text(\n",
    "        i, # bar index (x coordinate of text)\n",
    "        h+10, # y coordinate of text\n",
    "        '{}'.format(int(h)),  # y label\n",
    "        ha='center', \n",
    "        fontweight='bold', \n",
    "        size=10)"
   ]
  },
  {
   "cell_type": "markdown",
   "metadata": {},
   "source": [
    "##  8. Incorporating Sentiment Analysis with Clustering"
   ]
  },
  {
   "cell_type": "code",
   "execution_count": 21,
   "metadata": {},
   "outputs": [],
   "source": [
    "listofquery=[\"i am so happy. It is delicious. i do not like it\",\"this food is great. this is bad\",\"i strongly recommend\"]"
   ]
  },
  {
   "cell_type": "code",
   "execution_count": 23,
   "metadata": {},
   "outputs": [
    {
     "name": "stdout",
     "output_type": "stream",
     "text": [
      "This is the review:\n",
      "['i am so happy. It is delicious. i do not like it']\n",
      "positive score is:\n",
      "3\n",
      "['i', 'am', 'so', 'happy']\n",
      "['It', 'is', 'delicious']\n",
      "['i', 'do', 'not', 'like', 'it']\n",
      "negative score is:\n",
      "0\n",
      "This is the review:\n",
      "['this food is great. this is bad']\n",
      "positive score is:\n",
      "1\n",
      "['this', 'food', 'is', 'great']\n",
      "negative score is:\n",
      "1\n",
      "['this', 'is', 'bad']\n",
      "This is the review:\n",
      "['i strongly recommend']\n",
      "positive score is:\n",
      "1\n",
      "['i', 'strongly', 'recommend']\n",
      "negative score is:\n",
      "0\n"
     ]
    }
   ],
   "source": [
    "import nltk\n",
    "from nltk.tokenize import sent_tokenize, word_tokenize, RegexpTokenizer\n",
    "tokenizer=RegexpTokenizer('\\w+|\\$[\\d\\.]+')\n",
    "listofquerywithsentiment=[]\n",
    "\n",
    "for i in listofquery:\n",
    "    sentences=[]\n",
    "    listquery=[]\n",
    "    labels=[]\n",
    "    pos_score=0\n",
    "    neg_score=0\n",
    "    predicted_labels=[]\n",
    "    thelines=[]\n",
    "    positive=[]\n",
    "    negative=[]\n",
    "    listquery.append(i)\n",
    "    i = cleanhtml(i)\n",
    "    i = decontracted(i)\n",
    "    sentence = sent_tokenize(i)\n",
    "    for lines in sentence:\n",
    "        words=lines.split(\".\")\n",
    "        for word in words:\n",
    "            word=tokenizer.tokenize(word)\n",
    "            if word != []:\n",
    "                thisline=\" \".join(word)\n",
    "                labels.append(sentiment_scores(thisline))\n",
    "                sentences.append(word)\n",
    "    #print(sentences) \n",
    "    #print(labels)\n",
    "    # Going through the two lists in parallel to create the labeled data set.\n",
    "    for (l, s) in zip(labels, sentences):\n",
    "\n",
    "        # Convert the original sentence into a vector.\n",
    "        vector = dictionary.doc2bow(s)\n",
    "\n",
    "        # Create a dict object to store the document vector (in order to use NLTK's classifier later)\n",
    "        sent_as_dict = {id:1 for (id, tf) in vector}\n",
    "\n",
    "        # Add the labeled sentence to the labeled data set.\n",
    "        # labeled_test_data.append((sent_as_dict, l))\n",
    "        \n",
    "        predicted_labels.append(naiveclassifier.classify(sent_as_dict))\n",
    "    #print(predicted_labels)\n",
    "    counter=0\n",
    "    for i in predicted_labels:\n",
    "        if i ==\"+\":\n",
    "            pos_score+=1\n",
    "            positive.append(sentences[counter])\n",
    "            counter+=1\n",
    "        elif i ==\"-\":\n",
    "            neg_score+=1\n",
    "            negative.append(sentences[counter])\n",
    "            counter+=1\n",
    "    #print(pos_score)\n",
    "    #print(counter)\n",
    "    #print(positive)\n",
    "    #print(negative)\n",
    "    thisreview=[listquery,positive,negative,pos_score,neg_score]\n",
    "    listofquerywithsentiment.append(thisreview)\n",
    "#print(listofquerywithsentiment)\n",
    "\n",
    "for r in listofquerywithsentiment:\n",
    "    review=r[0]\n",
    "    positivesentences=r[1]\n",
    "    negativesentences=r[2]\n",
    "    positivescore=r[3]\n",
    "    negativescore=r[4]\n",
    "    print(\"This is the review:\")\n",
    "    print(review)\n",
    "    print(\"positive score is:\")\n",
    "    print(positivescore)\n",
    "    if positivesentences!=[]:\n",
    "        for i in positivesentences:\n",
    "            print(i)\n",
    "    print(\"negative score is:\")\n",
    "    print(negativescore)\n",
    "    if negativesentences!=[]:\n",
    "        for i in negativesentences:\n",
    "            print(i)"
   ]
  },
  {
   "cell_type": "markdown",
   "metadata": {},
   "source": [
    "## 9. Incorporating Sentiment Analysis for Product Owners to view positive & negative sentiments for a product"
   ]
  },
  {
   "cell_type": "code",
   "execution_count": 16,
   "metadata": {},
   "outputs": [],
   "source": [
    "# owner will input their product id \n",
    "# extract from data set the list of reviews\n",
    "# show the postive and negative\n",
    "\n",
    "input_pid = 'B001GVISJM'\n",
    "\n",
    "product_df = df.loc[df['ProductId'] == input_pid]\n",
    "\n",
    "product_reviews = list(product_df['Text'])\n"
   ]
  },
  {
   "cell_type": "code",
   "execution_count": 46,
   "metadata": {},
   "outputs": [
    {
     "name": "stdout",
     "output_type": "stream",
     "text": [
      "Review # 1 :\n",
      "['good flavor! these came securely packed... they were fresh and delicious! i love these Twizzlers!']\n",
      "positive score is:\n",
      "4\n",
      "['good', 'flavor']\n",
      "['these', 'came', 'securely', 'packed']\n",
      "['they', 'were', 'fresh', 'and', 'delicious']\n",
      "['i', 'love', 'these', 'Twizzlers']\n",
      "negative score is:\n",
      "0\n",
      "\n",
      "Review # 2 :\n",
      "['The Strawberry Twizzlers are my guilty pleasure - yummy. Six pounds will be around for a while with my son and I.']\n",
      "positive score is:\n",
      "2\n",
      "['The', 'Strawberry', 'Twizzlers', 'are', 'my', 'guilty', 'pleasure', 'yummy']\n",
      "['Six', 'pounds', 'will', 'be', 'around', 'for', 'a', 'while', 'with', 'my', 'son', 'and', 'I']\n",
      "negative score is:\n",
      "0\n",
      "\n",
      "Review # 3 :\n",
      "[\"My daughter loves twizzlers and this shipment of six pounds really hit the spot. It's exactly what you would expect...six packages of strawberry twizzlers.\"]\n",
      "positive score is:\n",
      "3\n",
      "['My', 'daughter', 'loves', 'twizzlers', 'and', 'this', 'shipment', 'of', 'six', 'pounds', 'really', 'hit', 'the', 'spot']\n",
      "['It', 'is', 'exactly', 'what', 'you', 'would', 'expect']\n",
      "['six', 'packages', 'of', 'strawberry', 'twizzlers']\n",
      "negative score is:\n",
      "0\n",
      "\n",
      "Review # 4 :\n",
      "['I love eating them and they are good for watching TV and looking at movies! It is not too sweet. I like to transfer them to a zip lock baggie so they stay fresh so I can take my time eating them.']\n",
      "positive score is:\n",
      "3\n",
      "['I', 'love', 'eating', 'them', 'and', 'they', 'are', 'good', 'for', 'watching', 'TV', 'and', 'looking', 'at', 'movies']\n",
      "['It', 'is', 'not', 'too', 'sweet']\n",
      "['I', 'like', 'to', 'transfer', 'them', 'to', 'a', 'zip', 'lock', 'baggie', 'so', 'they', 'stay', 'fresh', 'so', 'I', 'can', 'take', 'my', 'time', 'eating', 'them']\n",
      "negative score is:\n",
      "0\n",
      "\n",
      "Review # 5 :\n",
      "['I am very satisfied with my Twizzler purchase.  I shared these with others and we have all enjoyed them.  I will definitely be ordering more.']\n",
      "positive score is:\n",
      "3\n",
      "['I', 'am', 'very', 'satisfied', 'with', 'my', 'Twizzler', 'purchase']\n",
      "['I', 'shared', 'these', 'with', 'others', 'and', 'we', 'have', 'all', 'enjoyed', 'them']\n",
      "['I', 'will', 'definitely', 'be', 'ordering', 'more']\n",
      "negative score is:\n",
      "0\n",
      "\n",
      "Review # 6 :\n",
      "['Twizzlers, Strawberry my childhood favorite candy, made in Lancaster Pennsylvania by Y & S Candies, Inc. one of the oldest confectionery Firms in the United States, now a Subsidiary of the Hershey Company, the Company was established in 1845 as Young and Smylie, they also make Apple Licorice Twists, Green Color and Blue Raspberry Licorice Twists, I like them all<br /><br />I keep it in a dry cool place because is not recommended it to put it in the fridge. According to the Guinness Book of Records, the longest Licorice Twist ever made measured 1.200 Feet (370 M) and weighted 100 Pounds (45 Kg) and was made by Y & S Candies, Inc. This Record-Breaking Twist became a Guinness World Record on July 19, 1998. This Product is Kosher! Thank You']\n",
      "positive score is:\n",
      "5\n",
      "['Twizzlers', 'Strawberry', 'my', 'childhood', 'favorite', 'candy', 'made', 'in', 'Lancaster', 'Pennsylvania', 'by', 'Y', 'S', 'Candies', 'Inc']\n",
      "['one', 'of', 'the', 'oldest', 'confectionery', 'Firms', 'in', 'the', 'United', 'States', 'now', 'a', 'Subsidiary', 'of', 'the', 'Hershey', 'Company', 'the', 'Company', 'was', 'established', 'in', '1845', 'as', 'Young', 'and', 'Smylie', 'they', 'also', 'make', 'Apple', 'Licorice', 'Twists', 'Green', 'Color', 'and', 'Blue', 'Raspberry', 'Licorice', 'Twists', 'I', 'like', 'them', 'allI', 'keep', 'it', 'in', 'a', 'dry', 'cool', 'place', 'because', 'is', 'not', 'recommended', 'it', 'to', 'put', 'it', 'in', 'the', 'fridge']\n",
      "['This', 'Record', 'Breaking', 'Twist', 'became', 'a', 'Guinness', 'World', 'Record', 'on', 'July', '19', '1998']\n",
      "['This', 'Product', 'is', 'Kosher']\n",
      "['Thank', 'You']\n",
      "negative score is:\n",
      "2\n",
      "['According', 'to', 'the', 'Guinness', 'Book', 'of', 'Records', 'the', 'longest', 'Licorice', 'Twist', 'ever', 'made', 'measured', '1']\n",
      "['200', 'Feet', '370', 'M', 'and', 'weighted', '100', 'Pounds', '45', 'Kg', 'and', 'was', 'made', 'by', 'Y', 'S', 'Candies', 'Inc']\n",
      "\n",
      "Review # 7 :\n",
      "['Candy was delivered very fast and was purchased at a reasonable price.  I was home bound and unable to get to a store so this was perfect for me.']\n",
      "positive score is:\n",
      "2\n",
      "['Candy', 'was', 'delivered', 'very', 'fast', 'and', 'was', 'purchased', 'at', 'a', 'reasonable', 'price']\n",
      "['I', 'was', 'home', 'bound', 'and', 'unable', 'to', 'get', 'to', 'a', 'store', 'so', 'this', 'was', 'perfect', 'for', 'me']\n",
      "negative score is:\n",
      "0\n",
      "\n",
      "Review # 8 :\n",
      "[\"My husband is a Twizzlers addict.  We've bought these many times from Amazon because we're government employees living overseas and can't get them in the country we are assigned to.  They've always been fresh and tasty, packed well and arrive in a timely manner.\"]\n",
      "positive score is:\n",
      "2\n",
      "['My', 'husband', 'is', 'a', 'Twizzlers', 'addict']\n",
      "['They', 'have', 'always', 'been', 'fresh', 'and', 'tasty', 'packed', 'well', 'and', 'arrive', 'in', 'a', 'timely', 'manner']\n",
      "negative score is:\n",
      "1\n",
      "['We', 'have', 'bought', 'these', 'many', 'times', 'from', 'Amazon', 'because', 'we', 'are', 'government', 'employees', 'living', 'overseas', 'and', 'can', 'not', 'get', 'them', 'in', 'the', 'country', 'we', 'are', 'assigned', 'to']\n",
      "\n",
      "Review # 9 :\n",
      "['I bought these for my husband who is currently overseas. He loves these, and apparently his staff likes them also.<br />There are generous amounts of Twizzlers in each 16-ounce bag, and this was well worth the price. <a href=\"http://www.amazon.com/gp/product/B001GVISJM\">Twizzlers, Strawberry, 16-Ounce Bags (Pack of 6)</a>']\n",
      "positive score is:\n",
      "4\n",
      "['I', 'bought', 'these', 'for', 'my', 'husband', 'who', 'is', 'currently', 'overseas']\n",
      "['He', 'loves', 'these', 'and', 'apparently', 'his', 'staff', 'likes', 'them', 'also']\n",
      "['There', 'are', 'generous', 'amounts', 'of', 'Twizzlers', 'in', 'each', '16', 'ounce', 'bag', 'and', 'this', 'was', 'well', 'worth', 'the', 'price']\n",
      "['Twizzlers', 'Strawberry', '16', 'Ounce', 'Bags', 'Pack', 'of', '6']\n",
      "negative score is:\n",
      "0\n",
      "\n",
      "Review # 10 :\n",
      "[\"I can remember buying this candy as a kid and the quality hasn't dropped in all these years. Still a superb product you won't be disappointed with.\"]\n",
      "positive score is:\n",
      "2\n",
      "['I', 'can', 'remember', 'buying', 'this', 'candy', 'as', 'a', 'kid', 'and', 'the', 'quality', 'has', 'not', 'dropped', 'in', 'all', 'these', 'years']\n",
      "['Still', 'a', 'superb', 'product', 'you', 'will', 'not', 'be', 'disappointed', 'with']\n",
      "negative score is:\n",
      "0\n",
      "\n",
      "Review # 11 :\n",
      "['I love this candy.  After weight watchers I had to cut back but still have a craving for it.']\n",
      "positive score is:\n",
      "1\n",
      "['I', 'love', 'this', 'candy']\n",
      "negative score is:\n",
      "1\n",
      "['After', 'weight', 'watchers', 'I', 'had', 'to', 'cut', 'back', 'but', 'still', 'have', 'a', 'craving', 'for', 'it']\n",
      "\n",
      "Review # 12 :\n",
      "[\"I have lived out of the US for over 7 yrs now, and I so miss my Twizzlers!!  When I go back to visit or someone visits me, I always stock up.  All I can say is YUM!<br />Sell these in Mexico and you will have a faithful buyer, more often than I'm able to buy them right now.\"]\n",
      "positive score is:\n",
      "1\n",
      "['All', 'I', 'can', 'say', 'is', 'YUM', 'Sell', 'these', 'in', 'Mexico', 'and', 'you', 'will', 'have', 'a', 'faithful', 'buyer', 'more', 'often', 'than', 'I', 'am', 'able', 'to', 'buy', 'them', 'right', 'now']\n",
      "negative score is:\n",
      "2\n",
      "['I', 'have', 'lived', 'out', 'of', 'the', 'US', 'for', 'over', '7', 'yrs', 'now', 'and', 'I', 'so', 'miss', 'my', 'Twizzlers']\n",
      "['When', 'I', 'go', 'back', 'to', 'visit', 'or', 'someone', 'visits', 'me', 'I', 'always', 'stock', 'up']\n",
      "\n",
      "Review # 13 :\n",
      "['Product received is as advertised.<br /><br /><a href=\"http://www.amazon.com/gp/product/B001GVISJM\">Twizzlers, Strawberry, 16-Ounce Bags (Pack of 6)</a>']\n",
      "positive score is:\n",
      "2\n",
      "['Product', 'received', 'is', 'as', 'advertised']\n",
      "['Twizzlers', 'Strawberry', '16', 'Ounce', 'Bags', 'Pack', 'of', '6']\n",
      "negative score is:\n",
      "0\n",
      "\n",
      "Review # 14 :\n",
      "['The candy is just red , No flavor . Just  plan and chewy .  I would never buy them again']\n",
      "positive score is:\n",
      "2\n",
      "['Just', 'plan', 'and', 'chewy']\n",
      "['I', 'would', 'never', 'buy', 'them', 'again']\n",
      "negative score is:\n",
      "1\n",
      "['The', 'candy', 'is', 'just', 'red', 'No', 'flavor']\n",
      "\n",
      "Review # 15 :\n",
      "['I was so glad Amazon carried these batteries.  I have a hard time finding them elsewhere because they are such a unique size.  I need them for my garage door opener.<br />Great deal for the price.']\n",
      "positive score is:\n",
      "3\n",
      "['I', 'was', 'so', 'glad', 'Amazon', 'carried', 'these', 'batteries']\n",
      "['I', 'need', 'them', 'for', 'my', 'garage', 'door', 'opener']\n",
      "['Great', 'deal', 'for', 'the', 'price']\n",
      "negative score is:\n",
      "1\n",
      "['I', 'have', 'a', 'hard', 'time', 'finding', 'them', 'elsewhere', 'because', 'they', 'are', 'such', 'a', 'unique', 'size']\n",
      "\n"
     ]
    }
   ],
   "source": [
    "import nltk\n",
    "from nltk.tokenize import sent_tokenize, word_tokenize, RegexpTokenizer\n",
    "tokenizer=RegexpTokenizer('\\w+|\\$[\\d\\.]+')\n",
    "listofquerywithsentiment=[]\n",
    "\n",
    "for i in product_reviews:\n",
    "    sentences=[]\n",
    "    listquery=[]\n",
    "    labels=[]\n",
    "    pos_score=0\n",
    "    neg_score=0\n",
    "    predicted_labels=[]\n",
    "    thelines=[]\n",
    "    positive=[]\n",
    "    negative=[]\n",
    "    listquery.append(i)\n",
    "    i = cleanhtml(i)\n",
    "    i = decontracted(i)\n",
    "    sentence = sent_tokenize(i)\n",
    "    for lines in sentence:\n",
    "        words=lines.split(\".\")\n",
    "        for word in words:\n",
    "            word=tokenizer.tokenize(word)\n",
    "            if word != []:\n",
    "                thisline=\" \".join(word)\n",
    "                labels.append(sentiment_scores(thisline))\n",
    "                sentences.append(word)\n",
    "    #print(sentences) \n",
    "    #print(labels)\n",
    "    # Going through the two lists in parallel to create the labeled data set.\n",
    "    for (l, s) in zip(labels, sentences):\n",
    "\n",
    "        # Convert the original sentence into a vector.\n",
    "        vector = dictionary.doc2bow(s)\n",
    "\n",
    "        # Create a dict object to store the document vector (in order to use NLTK's classifier later)\n",
    "        sent_as_dict = {id:1 for (id, tf) in vector}\n",
    "\n",
    "        # Add the labeled sentence to the labeled data set.\n",
    "        # labeled_test_data.append((sent_as_dict, l))\n",
    "        \n",
    "        predicted_labels.append(classifier.classify(sent_as_dict))\n",
    "    #print(predicted_labels)\n",
    "    counter=0\n",
    "    for i in predicted_labels:\n",
    "        if i ==\"+\":\n",
    "            pos_score+=1\n",
    "            positive.append(sentences[counter])\n",
    "            counter+=1\n",
    "        elif i ==\"-\":\n",
    "            neg_score+=1\n",
    "            negative.append(sentences[counter])\n",
    "            counter+=1\n",
    "    #print(pos_score)\n",
    "    #print(counter)\n",
    "    #print(positive)\n",
    "    #print(negative)\n",
    "    thisreview=[listquery,positive,negative,pos_score,neg_score]\n",
    "    listofquerywithsentiment.append(thisreview)\n",
    "#print(listofquerywithsentiment)\n",
    "count = 1\n",
    "for r in listofquerywithsentiment:\n",
    "    review=r[0]\n",
    "    positivesentences=r[1]\n",
    "    negativesentences=r[2]\n",
    "    positivescore=r[3]\n",
    "    negativescore=r[4]\n",
    "    print(\"Review #\", count, \":\")\n",
    "    count += 1\n",
    "    print(review)\n",
    "    print(\"positive score is:\")\n",
    "    print(positivescore)\n",
    "    if positivesentences!=[]:\n",
    "        for i in positivesentences:\n",
    "            print(i)\n",
    "    print(\"negative score is:\")\n",
    "    print(negativescore)\n",
    "    if negativesentences!=[]:\n",
    "        for i in negativesentences:\n",
    "            print(i)\n",
    "    print()"
   ]
  }
 ],
 "metadata": {
  "kernelspec": {
   "display_name": "Python 3",
   "language": "python",
   "name": "python3"
  },
  "language_info": {
   "codemirror_mode": {
    "name": "ipython",
    "version": 3
   },
   "file_extension": ".py",
   "mimetype": "text/x-python",
   "name": "python",
   "nbconvert_exporter": "python",
   "pygments_lexer": "ipython3",
   "version": "3.7.0"
  }
 },
 "nbformat": 4,
 "nbformat_minor": 2
}
